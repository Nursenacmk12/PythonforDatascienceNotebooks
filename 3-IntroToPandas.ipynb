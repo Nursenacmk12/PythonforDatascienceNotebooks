{
 "cells": [
  {
   "cell_type": "code",
   "execution_count": 10,
   "id": "afc21e5d-17fa-4247-bc0b-ae043caa8f04",
   "metadata": {},
   "outputs": [],
   "source": [
    "import numpy as np"
   ]
  },
  {
   "cell_type": "code",
   "execution_count": 11,
   "id": "2c704d1f-36e5-42fc-9dfa-e2a96200d057",
   "metadata": {},
   "outputs": [],
   "source": [
    "import pandas as pd"
   ]
  },
  {
   "cell_type": "code",
   "execution_count": 12,
   "id": "e5fe73aa-e77f-409d-bb73-cdca779b8d01",
   "metadata": {},
   "outputs": [],
   "source": [
    "grades = {\"Atıl\" :50 , \"James\" :60 , \" Laras\" :70}"
   ]
  },
  {
   "cell_type": "code",
   "execution_count": 13,
   "id": "845d4b60-02a3-4d6d-b6a1-d0318cc497c0",
   "metadata": {},
   "outputs": [
    {
     "data": {
      "text/plain": [
       "Atıl      50\n",
       "James     60\n",
       " Laras    70\n",
       "dtype: int64"
      ]
     },
     "execution_count": 13,
     "metadata": {},
     "output_type": "execute_result"
    }
   ],
   "source": [
    "pd.Series(grades)"
   ]
  },
  {
   "cell_type": "code",
   "execution_count": 14,
   "id": "9de468d7-451b-4a9b-be0f-9048202303dd",
   "metadata": {},
   "outputs": [],
   "source": [
    "names = [\"Atıl\" , \"James\" , \"Laras\"]\n",
    "grades= [50,60,70]"
   ]
  },
  {
   "cell_type": "code",
   "execution_count": 15,
   "id": "ac509005-d47a-4f08-a7e9-db7b0db3c6c1",
   "metadata": {},
   "outputs": [
    {
     "data": {
      "text/plain": [
       "0    50\n",
       "1    60\n",
       "2    70\n",
       "dtype: int64"
      ]
     },
     "execution_count": 15,
     "metadata": {},
     "output_type": "execute_result"
    }
   ],
   "source": [
    "pd.Series(grades)"
   ]
  },
  {
   "cell_type": "code",
   "execution_count": 16,
   "id": "272dbb09-f99a-4bf1-8d49-1adc3efdc445",
   "metadata": {},
   "outputs": [
    {
     "data": {
      "text/plain": [
       "Atıl     50\n",
       "James    60\n",
       "Laras    70\n",
       "dtype: int64"
      ]
     },
     "execution_count": 16,
     "metadata": {},
     "output_type": "execute_result"
    }
   ],
   "source": [
    "pd.Series(grades , names )"
   ]
  },
  {
   "cell_type": "code",
   "execution_count": 17,
   "id": "7d89b3d8-b418-4c15-a274-7a234d2799e2",
   "metadata": {},
   "outputs": [],
   "source": [
    "numpy_array = np.array([50,60,70,80])"
   ]
  },
  {
   "cell_type": "code",
   "execution_count": 18,
   "id": "4590b043-7f40-46b1-a1e9-94392c06cf31",
   "metadata": {},
   "outputs": [
    {
     "data": {
      "text/plain": [
       "0    50\n",
       "1    60\n",
       "2    70\n",
       "3    80\n",
       "dtype: int32"
      ]
     },
     "execution_count": 18,
     "metadata": {},
     "output_type": "execute_result"
    }
   ],
   "source": [
    "pd.Series(numpy_array)"
   ]
  },
  {
   "cell_type": "code",
   "execution_count": 19,
   "id": "78cbc641-52eb-4083-b4d7-337884bd431f",
   "metadata": {},
   "outputs": [],
   "source": [
    "#arithmetic"
   ]
  },
  {
   "cell_type": "code",
   "execution_count": 21,
   "id": "0a343cd4-8214-4d17-b5b5-bfbb29b58334",
   "metadata": {},
   "outputs": [],
   "source": [
    " contest_result = pd.Series(data = [10,5,100] , index = [\"Atıl\",\"James\", \"Lars\"])"
   ]
  },
  {
   "cell_type": "code",
   "execution_count": 22,
   "id": "925de45f-30c3-44c7-9c26-937514308793",
   "metadata": {},
   "outputs": [],
   "source": [
    "contest_result2 = pd.Series(data = [20,30,50] , index = [\"Atıl\",\"James\", \"Lars\"])"
   ]
  },
  {
   "cell_type": "code",
   "execution_count": 23,
   "id": "129d8760-7853-4dab-9009-ba09893189e5",
   "metadata": {},
   "outputs": [
    {
     "data": {
      "text/plain": [
       "Atıl      10\n",
       "James      5\n",
       "Lars     100\n",
       "dtype: int64"
      ]
     },
     "execution_count": 23,
     "metadata": {},
     "output_type": "execute_result"
    }
   ],
   "source": [
    " contest_result"
   ]
  },
  {
   "cell_type": "code",
   "execution_count": 24,
   "id": "670ac480-5e95-4a36-952e-3255f8b79152",
   "metadata": {},
   "outputs": [
    {
     "data": {
      "text/plain": [
       "Atıl     20\n",
       "James    30\n",
       "Lars     50\n",
       "dtype: int64"
      ]
     },
     "execution_count": 24,
     "metadata": {},
     "output_type": "execute_result"
    }
   ],
   "source": [
    " contest_result2"
   ]
  },
  {
   "cell_type": "code",
   "execution_count": 26,
   "id": "cc31b4b6-35ce-462f-9e41-017baa517bec",
   "metadata": {},
   "outputs": [
    {
     "data": {
      "text/plain": [
       "10"
      ]
     },
     "execution_count": 26,
     "metadata": {},
     "output_type": "execute_result"
    }
   ],
   "source": [
    " contest_result[\"Atıl\"]"
   ]
  },
  {
   "cell_type": "code",
   "execution_count": 27,
   "id": "eb1eecae-35e3-43a4-812c-aeef222cd206",
   "metadata": {},
   "outputs": [],
   "source": [
    "final_result =  contest_result +  contest_result2"
   ]
  },
  {
   "cell_type": "code",
   "execution_count": 28,
   "id": "8bee313c-d4d5-4e15-8715-f31b5089483f",
   "metadata": {},
   "outputs": [
    {
     "data": {
      "text/plain": [
       "Atıl      30\n",
       "James     35\n",
       "Lars     150\n",
       "dtype: int64"
      ]
     },
     "execution_count": 28,
     "metadata": {},
     "output_type": "execute_result"
    }
   ],
   "source": [
    "final_result"
   ]
  },
  {
   "cell_type": "code",
   "execution_count": 29,
   "id": "87fae23f-e306-4449-8e5e-f0819bb0541c",
   "metadata": {},
   "outputs": [],
   "source": [
    "difference_series = pd.Series([20,30,40,50] , [\"a\" , \"b\" , \"c\",\"d\"])"
   ]
  },
  {
   "cell_type": "code",
   "execution_count": 30,
   "id": "3995fa1e-dfaf-4cae-a7a0-79524178666d",
   "metadata": {},
   "outputs": [
    {
     "data": {
      "text/plain": [
       "a    20\n",
       "b    30\n",
       "c    40\n",
       "d    50\n",
       "dtype: int64"
      ]
     },
     "execution_count": 30,
     "metadata": {},
     "output_type": "execute_result"
    }
   ],
   "source": [
    "difference_series"
   ]
  },
  {
   "cell_type": "code",
   "execution_count": 31,
   "id": "da78c90c-2fb1-4b8a-8504-ca5a76981b3f",
   "metadata": {},
   "outputs": [],
   "source": [
    "difference_series2 = pd.Series([10,5,3,1],[\"a\",\"c\",\"f\",\"g\"])"
   ]
  },
  {
   "cell_type": "code",
   "execution_count": 32,
   "id": "6c0aa410-191c-4899-ac95-ba5310d1cd83",
   "metadata": {},
   "outputs": [
    {
     "data": {
      "text/plain": [
       "a    10\n",
       "c     5\n",
       "f     3\n",
       "g     1\n",
       "dtype: int64"
      ]
     },
     "execution_count": 32,
     "metadata": {},
     "output_type": "execute_result"
    }
   ],
   "source": [
    "difference_series2"
   ]
  },
  {
   "cell_type": "code",
   "execution_count": 33,
   "id": "50adb98d-e7fe-4031-bf27-7fe64a2ed3ac",
   "metadata": {},
   "outputs": [
    {
     "data": {
      "text/plain": [
       "a    30.0\n",
       "b     NaN\n",
       "c    45.0\n",
       "d     NaN\n",
       "f     NaN\n",
       "g     NaN\n",
       "dtype: float64"
      ]
     },
     "execution_count": 33,
     "metadata": {},
     "output_type": "execute_result"
    }
   ],
   "source": [
    "difference_series + difference_series2"
   ]
  },
  {
   "cell_type": "code",
   "execution_count": 34,
   "id": "7dac3b23-ca79-4387-b9d9-88d67d919d38",
   "metadata": {},
   "outputs": [],
   "source": [
    "# DATAFRAME"
   ]
  },
  {
   "cell_type": "code",
   "execution_count": 54,
   "id": "cddafc7b-1fe1-466a-8ac1-e54896a7ed76",
   "metadata": {},
   "outputs": [],
   "source": [
    "data = np.random.randn(4,3)"
   ]
  },
  {
   "cell_type": "code",
   "execution_count": 55,
   "id": "2a181ddc-193c-4e3d-a264-5da21eae0a02",
   "metadata": {},
   "outputs": [
    {
     "data": {
      "text/plain": [
       "array([[ 1.19867468, -0.10017828, -0.15452179],\n",
       "       [-1.23120575, -0.27040348, -0.74266323],\n",
       "       [-0.26726451,  1.18305618,  1.07282409],\n",
       "       [ 0.34735553, -0.02406598, -1.53872683]])"
      ]
     },
     "execution_count": 55,
     "metadata": {},
     "output_type": "execute_result"
    }
   ],
   "source": [
    "data"
   ]
  },
  {
   "cell_type": "code",
   "execution_count": 56,
   "id": "bbada8e1-d6c6-40df-9e46-111f397d9f09",
   "metadata": {},
   "outputs": [],
   "source": [
    "data_frame =pd.DataFrame(data) "
   ]
  },
  {
   "cell_type": "code",
   "execution_count": 57,
   "id": "771a4268-0084-4e01-9164-65b8a586d550",
   "metadata": {},
   "outputs": [
    {
     "data": {
      "text/html": [
       "<div>\n",
       "<style scoped>\n",
       "    .dataframe tbody tr th:only-of-type {\n",
       "        vertical-align: middle;\n",
       "    }\n",
       "\n",
       "    .dataframe tbody tr th {\n",
       "        vertical-align: top;\n",
       "    }\n",
       "\n",
       "    .dataframe thead th {\n",
       "        text-align: right;\n",
       "    }\n",
       "</style>\n",
       "<table border=\"1\" class=\"dataframe\">\n",
       "  <thead>\n",
       "    <tr style=\"text-align: right;\">\n",
       "      <th></th>\n",
       "      <th>0</th>\n",
       "      <th>1</th>\n",
       "      <th>2</th>\n",
       "    </tr>\n",
       "  </thead>\n",
       "  <tbody>\n",
       "    <tr>\n",
       "      <th>0</th>\n",
       "      <td>1.198675</td>\n",
       "      <td>-0.100178</td>\n",
       "      <td>-0.154522</td>\n",
       "    </tr>\n",
       "    <tr>\n",
       "      <th>1</th>\n",
       "      <td>-1.231206</td>\n",
       "      <td>-0.270403</td>\n",
       "      <td>-0.742663</td>\n",
       "    </tr>\n",
       "    <tr>\n",
       "      <th>2</th>\n",
       "      <td>-0.267265</td>\n",
       "      <td>1.183056</td>\n",
       "      <td>1.072824</td>\n",
       "    </tr>\n",
       "    <tr>\n",
       "      <th>3</th>\n",
       "      <td>0.347356</td>\n",
       "      <td>-0.024066</td>\n",
       "      <td>-1.538727</td>\n",
       "    </tr>\n",
       "  </tbody>\n",
       "</table>\n",
       "</div>"
      ],
      "text/plain": [
       "          0         1         2\n",
       "0  1.198675 -0.100178 -0.154522\n",
       "1 -1.231206 -0.270403 -0.742663\n",
       "2 -0.267265  1.183056  1.072824\n",
       "3  0.347356 -0.024066 -1.538727"
      ]
     },
     "execution_count": 57,
     "metadata": {},
     "output_type": "execute_result"
    }
   ],
   "source": [
    "data_frame"
   ]
  },
  {
   "cell_type": "code",
   "execution_count": 58,
   "id": "b8239814-9fc5-4e56-b941-266d05e8dd1c",
   "metadata": {},
   "outputs": [
    {
     "data": {
      "text/plain": [
       "pandas.core.frame.DataFrame"
      ]
     },
     "execution_count": 58,
     "metadata": {},
     "output_type": "execute_result"
    }
   ],
   "source": [
    "type(data_frame)"
   ]
  },
  {
   "cell_type": "code",
   "execution_count": 40,
   "id": "0fd56890-3fcf-4144-8f6b-258642e50f1f",
   "metadata": {},
   "outputs": [
    {
     "data": {
      "text/plain": [
       "0   -0.825785\n",
       "1   -0.826025\n",
       "2   -0.018609\n",
       "3    1.699578\n",
       "Name: 0, dtype: float64"
      ]
     },
     "execution_count": 40,
     "metadata": {},
     "output_type": "execute_result"
    }
   ],
   "source": [
    "data_frame[0]"
   ]
  },
  {
   "cell_type": "code",
   "execution_count": 47,
   "id": "8c468c78-1ea3-4fb5-a551-35ca090b20dd",
   "metadata": {},
   "outputs": [
    {
     "data": {
      "text/plain": [
       "pandas.core.series.Series"
      ]
     },
     "execution_count": 47,
     "metadata": {},
     "output_type": "execute_result"
    }
   ],
   "source": [
    "type(data_frame[0])"
   ]
  },
  {
   "cell_type": "code",
   "execution_count": 49,
   "id": "4d92aead-bb7d-4108-a3f8-fc74c2c9d7c6",
   "metadata": {},
   "outputs": [],
   "source": [
    "new_df = pd.DataFrame(data , index = [\"Atil\" , \"Zeynep\" , \"Atlas\" , \"Mehmet\"] , columns = [\"Salary\" , \"Age\" , \"Seniority\" ])\n",
    "                "
   ]
  },
  {
   "cell_type": "code",
   "execution_count": 50,
   "id": "1cfa4bae-52fe-41b7-84e9-b180b85a1721",
   "metadata": {},
   "outputs": [
    {
     "data": {
      "text/html": [
       "<div>\n",
       "<style scoped>\n",
       "    .dataframe tbody tr th:only-of-type {\n",
       "        vertical-align: middle;\n",
       "    }\n",
       "\n",
       "    .dataframe tbody tr th {\n",
       "        vertical-align: top;\n",
       "    }\n",
       "\n",
       "    .dataframe thead th {\n",
       "        text-align: right;\n",
       "    }\n",
       "</style>\n",
       "<table border=\"1\" class=\"dataframe\">\n",
       "  <thead>\n",
       "    <tr style=\"text-align: right;\">\n",
       "      <th></th>\n",
       "      <th>Salary</th>\n",
       "      <th>Age</th>\n",
       "      <th>Seniority</th>\n",
       "    </tr>\n",
       "  </thead>\n",
       "  <tbody>\n",
       "    <tr>\n",
       "      <th>Atil</th>\n",
       "      <td>-0.825785</td>\n",
       "      <td>-0.821741</td>\n",
       "      <td>1.702729</td>\n",
       "    </tr>\n",
       "    <tr>\n",
       "      <th>Zeynep</th>\n",
       "      <td>-0.826025</td>\n",
       "      <td>-0.609280</td>\n",
       "      <td>-0.169197</td>\n",
       "    </tr>\n",
       "    <tr>\n",
       "      <th>Atlas</th>\n",
       "      <td>-0.018609</td>\n",
       "      <td>0.334303</td>\n",
       "      <td>0.017642</td>\n",
       "    </tr>\n",
       "    <tr>\n",
       "      <th>Mehmet</th>\n",
       "      <td>1.699578</td>\n",
       "      <td>0.069536</td>\n",
       "      <td>1.681590</td>\n",
       "    </tr>\n",
       "  </tbody>\n",
       "</table>\n",
       "</div>"
      ],
      "text/plain": [
       "          Salary       Age  Seniority\n",
       "Atil   -0.825785 -0.821741   1.702729\n",
       "Zeynep -0.826025 -0.609280  -0.169197\n",
       "Atlas  -0.018609  0.334303   0.017642\n",
       "Mehmet  1.699578  0.069536   1.681590"
      ]
     },
     "execution_count": 50,
     "metadata": {},
     "output_type": "execute_result"
    }
   ],
   "source": [
    "new_df"
   ]
  },
  {
   "cell_type": "code",
   "execution_count": 59,
   "id": "889706d5-3968-4055-8069-4789867bfee4",
   "metadata": {},
   "outputs": [
    {
     "data": {
      "text/plain": [
       "Atil     -0.821741\n",
       "Zeynep   -0.609280\n",
       "Atlas     0.334303\n",
       "Mehmet    0.069536\n",
       "Name: Age, dtype: float64"
      ]
     },
     "execution_count": 59,
     "metadata": {},
     "output_type": "execute_result"
    }
   ],
   "source": [
    "new_df[\"Age\"]"
   ]
  },
  {
   "cell_type": "code",
   "execution_count": 60,
   "id": "8ea8150f-62cb-49c3-b50a-9070821c1688",
   "metadata": {},
   "outputs": [
    {
     "data": {
      "text/html": [
       "<div>\n",
       "<style scoped>\n",
       "    .dataframe tbody tr th:only-of-type {\n",
       "        vertical-align: middle;\n",
       "    }\n",
       "\n",
       "    .dataframe tbody tr th {\n",
       "        vertical-align: top;\n",
       "    }\n",
       "\n",
       "    .dataframe thead th {\n",
       "        text-align: right;\n",
       "    }\n",
       "</style>\n",
       "<table border=\"1\" class=\"dataframe\">\n",
       "  <thead>\n",
       "    <tr style=\"text-align: right;\">\n",
       "      <th></th>\n",
       "      <th>Age</th>\n",
       "      <th>Salary</th>\n",
       "    </tr>\n",
       "  </thead>\n",
       "  <tbody>\n",
       "    <tr>\n",
       "      <th>Atil</th>\n",
       "      <td>-0.821741</td>\n",
       "      <td>-0.825785</td>\n",
       "    </tr>\n",
       "    <tr>\n",
       "      <th>Zeynep</th>\n",
       "      <td>-0.609280</td>\n",
       "      <td>-0.826025</td>\n",
       "    </tr>\n",
       "    <tr>\n",
       "      <th>Atlas</th>\n",
       "      <td>0.334303</td>\n",
       "      <td>-0.018609</td>\n",
       "    </tr>\n",
       "    <tr>\n",
       "      <th>Mehmet</th>\n",
       "      <td>0.069536</td>\n",
       "      <td>1.699578</td>\n",
       "    </tr>\n",
       "  </tbody>\n",
       "</table>\n",
       "</div>"
      ],
      "text/plain": [
       "             Age    Salary\n",
       "Atil   -0.821741 -0.825785\n",
       "Zeynep -0.609280 -0.826025\n",
       "Atlas   0.334303 -0.018609\n",
       "Mehmet  0.069536  1.699578"
      ]
     },
     "execution_count": 60,
     "metadata": {},
     "output_type": "execute_result"
    }
   ],
   "source": [
    "new_df[[\"Age\" , \"Salary\"]]"
   ]
  },
  {
   "cell_type": "code",
   "execution_count": 61,
   "id": "1f013ec8-80b1-4466-9d14-b735594fe833",
   "metadata": {},
   "outputs": [
    {
     "data": {
      "text/plain": [
       "Salary      -0.825785\n",
       "Age         -0.821741\n",
       "Seniority    1.702729\n",
       "Name: Atil, dtype: float64"
      ]
     },
     "execution_count": 61,
     "metadata": {},
     "output_type": "execute_result"
    }
   ],
   "source": [
    "new_df.loc[\"Atil\"]"
   ]
  },
  {
   "cell_type": "code",
   "execution_count": 63,
   "id": "9cc8c56f-3f81-4bef-b20a-554f27de0fd5",
   "metadata": {},
   "outputs": [
    {
     "data": {
      "text/plain": [
       "Salary      -0.825785\n",
       "Age         -0.821741\n",
       "Seniority    1.702729\n",
       "Name: Atil, dtype: float64"
      ]
     },
     "execution_count": 63,
     "metadata": {},
     "output_type": "execute_result"
    }
   ],
   "source": [
    "new_df.iloc[0]"
   ]
  },
  {
   "cell_type": "code",
   "execution_count": 65,
   "id": "9ce6c5c3-d3bf-4e56-8748-bc872d438058",
   "metadata": {},
   "outputs": [],
   "source": [
    "new_df[\"Extra\"] = 10 "
   ]
  },
  {
   "cell_type": "code",
   "execution_count": 66,
   "id": "2639308d-13e3-4eef-b242-3b99b5a367b8",
   "metadata": {},
   "outputs": [
    {
     "data": {
      "text/html": [
       "<div>\n",
       "<style scoped>\n",
       "    .dataframe tbody tr th:only-of-type {\n",
       "        vertical-align: middle;\n",
       "    }\n",
       "\n",
       "    .dataframe tbody tr th {\n",
       "        vertical-align: top;\n",
       "    }\n",
       "\n",
       "    .dataframe thead th {\n",
       "        text-align: right;\n",
       "    }\n",
       "</style>\n",
       "<table border=\"1\" class=\"dataframe\">\n",
       "  <thead>\n",
       "    <tr style=\"text-align: right;\">\n",
       "      <th></th>\n",
       "      <th>Salary</th>\n",
       "      <th>Age</th>\n",
       "      <th>Seniority</th>\n",
       "      <th>Extra</th>\n",
       "    </tr>\n",
       "  </thead>\n",
       "  <tbody>\n",
       "    <tr>\n",
       "      <th>Atil</th>\n",
       "      <td>-0.825785</td>\n",
       "      <td>-0.821741</td>\n",
       "      <td>1.702729</td>\n",
       "      <td>10</td>\n",
       "    </tr>\n",
       "    <tr>\n",
       "      <th>Zeynep</th>\n",
       "      <td>-0.826025</td>\n",
       "      <td>-0.609280</td>\n",
       "      <td>-0.169197</td>\n",
       "      <td>10</td>\n",
       "    </tr>\n",
       "    <tr>\n",
       "      <th>Atlas</th>\n",
       "      <td>-0.018609</td>\n",
       "      <td>0.334303</td>\n",
       "      <td>0.017642</td>\n",
       "      <td>10</td>\n",
       "    </tr>\n",
       "    <tr>\n",
       "      <th>Mehmet</th>\n",
       "      <td>1.699578</td>\n",
       "      <td>0.069536</td>\n",
       "      <td>1.681590</td>\n",
       "      <td>10</td>\n",
       "    </tr>\n",
       "  </tbody>\n",
       "</table>\n",
       "</div>"
      ],
      "text/plain": [
       "          Salary       Age  Seniority  Extra\n",
       "Atil   -0.825785 -0.821741   1.702729     10\n",
       "Zeynep -0.826025 -0.609280  -0.169197     10\n",
       "Atlas  -0.018609  0.334303   0.017642     10\n",
       "Mehmet  1.699578  0.069536   1.681590     10"
      ]
     },
     "execution_count": 66,
     "metadata": {},
     "output_type": "execute_result"
    }
   ],
   "source": [
    "new_df"
   ]
  },
  {
   "cell_type": "code",
   "execution_count": 67,
   "id": "28e4677e-2f4c-4aa3-b6a6-484c8af03699",
   "metadata": {},
   "outputs": [
    {
     "data": {
      "text/html": [
       "<div>\n",
       "<style scoped>\n",
       "    .dataframe tbody tr th:only-of-type {\n",
       "        vertical-align: middle;\n",
       "    }\n",
       "\n",
       "    .dataframe tbody tr th {\n",
       "        vertical-align: top;\n",
       "    }\n",
       "\n",
       "    .dataframe thead th {\n",
       "        text-align: right;\n",
       "    }\n",
       "</style>\n",
       "<table border=\"1\" class=\"dataframe\">\n",
       "  <thead>\n",
       "    <tr style=\"text-align: right;\">\n",
       "      <th></th>\n",
       "      <th>Salary</th>\n",
       "      <th>Age</th>\n",
       "      <th>Seniority</th>\n",
       "    </tr>\n",
       "  </thead>\n",
       "  <tbody>\n",
       "    <tr>\n",
       "      <th>Atil</th>\n",
       "      <td>-0.825785</td>\n",
       "      <td>-0.821741</td>\n",
       "      <td>1.702729</td>\n",
       "    </tr>\n",
       "    <tr>\n",
       "      <th>Zeynep</th>\n",
       "      <td>-0.826025</td>\n",
       "      <td>-0.609280</td>\n",
       "      <td>-0.169197</td>\n",
       "    </tr>\n",
       "    <tr>\n",
       "      <th>Atlas</th>\n",
       "      <td>-0.018609</td>\n",
       "      <td>0.334303</td>\n",
       "      <td>0.017642</td>\n",
       "    </tr>\n",
       "    <tr>\n",
       "      <th>Mehmet</th>\n",
       "      <td>1.699578</td>\n",
       "      <td>0.069536</td>\n",
       "      <td>1.681590</td>\n",
       "    </tr>\n",
       "  </tbody>\n",
       "</table>\n",
       "</div>"
      ],
      "text/plain": [
       "          Salary       Age  Seniority\n",
       "Atil   -0.825785 -0.821741   1.702729\n",
       "Zeynep -0.826025 -0.609280  -0.169197\n",
       "Atlas  -0.018609  0.334303   0.017642\n",
       "Mehmet  1.699578  0.069536   1.681590"
      ]
     },
     "execution_count": 67,
     "metadata": {},
     "output_type": "execute_result"
    }
   ],
   "source": [
    "new_df.drop(\"Extra\", axis = 1)"
   ]
  },
  {
   "cell_type": "code",
   "execution_count": 68,
   "id": "571f0942-1da2-42a1-a011-63d37a4a5b55",
   "metadata": {},
   "outputs": [],
   "source": [
    "new_df[\"Mehmet\"] = 10"
   ]
  },
  {
   "cell_type": "code",
   "execution_count": 69,
   "id": "7c2eb645-658d-4f3b-8dda-acca62ad2255",
   "metadata": {},
   "outputs": [
    {
     "data": {
      "text/html": [
       "<div>\n",
       "<style scoped>\n",
       "    .dataframe tbody tr th:only-of-type {\n",
       "        vertical-align: middle;\n",
       "    }\n",
       "\n",
       "    .dataframe tbody tr th {\n",
       "        vertical-align: top;\n",
       "    }\n",
       "\n",
       "    .dataframe thead th {\n",
       "        text-align: right;\n",
       "    }\n",
       "</style>\n",
       "<table border=\"1\" class=\"dataframe\">\n",
       "  <thead>\n",
       "    <tr style=\"text-align: right;\">\n",
       "      <th></th>\n",
       "      <th>Salary</th>\n",
       "      <th>Age</th>\n",
       "      <th>Seniority</th>\n",
       "      <th>Extra</th>\n",
       "      <th>Mehmet</th>\n",
       "    </tr>\n",
       "  </thead>\n",
       "  <tbody>\n",
       "    <tr>\n",
       "      <th>Atil</th>\n",
       "      <td>-0.825785</td>\n",
       "      <td>-0.821741</td>\n",
       "      <td>1.702729</td>\n",
       "      <td>10</td>\n",
       "      <td>10</td>\n",
       "    </tr>\n",
       "    <tr>\n",
       "      <th>Zeynep</th>\n",
       "      <td>-0.826025</td>\n",
       "      <td>-0.609280</td>\n",
       "      <td>-0.169197</td>\n",
       "      <td>10</td>\n",
       "      <td>10</td>\n",
       "    </tr>\n",
       "    <tr>\n",
       "      <th>Atlas</th>\n",
       "      <td>-0.018609</td>\n",
       "      <td>0.334303</td>\n",
       "      <td>0.017642</td>\n",
       "      <td>10</td>\n",
       "      <td>10</td>\n",
       "    </tr>\n",
       "    <tr>\n",
       "      <th>Mehmet</th>\n",
       "      <td>1.699578</td>\n",
       "      <td>0.069536</td>\n",
       "      <td>1.681590</td>\n",
       "      <td>10</td>\n",
       "      <td>10</td>\n",
       "    </tr>\n",
       "  </tbody>\n",
       "</table>\n",
       "</div>"
      ],
      "text/plain": [
       "          Salary       Age  Seniority  Extra  Mehmet\n",
       "Atil   -0.825785 -0.821741   1.702729     10      10\n",
       "Zeynep -0.826025 -0.609280  -0.169197     10      10\n",
       "Atlas  -0.018609  0.334303   0.017642     10      10\n",
       "Mehmet  1.699578  0.069536   1.681590     10      10"
      ]
     },
     "execution_count": 69,
     "metadata": {},
     "output_type": "execute_result"
    }
   ],
   "source": [
    "new_df"
   ]
  },
  {
   "cell_type": "code",
   "execution_count": 70,
   "id": "7e91bcdc-7580-4267-8583-68307e537937",
   "metadata": {},
   "outputs": [
    {
     "data": {
      "text/html": [
       "<div>\n",
       "<style scoped>\n",
       "    .dataframe tbody tr th:only-of-type {\n",
       "        vertical-align: middle;\n",
       "    }\n",
       "\n",
       "    .dataframe tbody tr th {\n",
       "        vertical-align: top;\n",
       "    }\n",
       "\n",
       "    .dataframe thead th {\n",
       "        text-align: right;\n",
       "    }\n",
       "</style>\n",
       "<table border=\"1\" class=\"dataframe\">\n",
       "  <thead>\n",
       "    <tr style=\"text-align: right;\">\n",
       "      <th></th>\n",
       "      <th>Salary</th>\n",
       "      <th>Age</th>\n",
       "      <th>Seniority</th>\n",
       "      <th>Extra</th>\n",
       "      <th>Mehmet</th>\n",
       "    </tr>\n",
       "  </thead>\n",
       "  <tbody>\n",
       "    <tr>\n",
       "      <th>Atil</th>\n",
       "      <td>-0.825785</td>\n",
       "      <td>-0.821741</td>\n",
       "      <td>1.702729</td>\n",
       "      <td>10</td>\n",
       "      <td>10</td>\n",
       "    </tr>\n",
       "    <tr>\n",
       "      <th>Zeynep</th>\n",
       "      <td>-0.826025</td>\n",
       "      <td>-0.609280</td>\n",
       "      <td>-0.169197</td>\n",
       "      <td>10</td>\n",
       "      <td>10</td>\n",
       "    </tr>\n",
       "    <tr>\n",
       "      <th>Atlas</th>\n",
       "      <td>-0.018609</td>\n",
       "      <td>0.334303</td>\n",
       "      <td>0.017642</td>\n",
       "      <td>10</td>\n",
       "      <td>10</td>\n",
       "    </tr>\n",
       "  </tbody>\n",
       "</table>\n",
       "</div>"
      ],
      "text/plain": [
       "          Salary       Age  Seniority  Extra  Mehmet\n",
       "Atil   -0.825785 -0.821741   1.702729     10      10\n",
       "Zeynep -0.826025 -0.609280  -0.169197     10      10\n",
       "Atlas  -0.018609  0.334303   0.017642     10      10"
      ]
     },
     "execution_count": 70,
     "metadata": {},
     "output_type": "execute_result"
    }
   ],
   "source": [
    "new_df.drop(\"Mehmet\")"
   ]
  },
  {
   "cell_type": "code",
   "execution_count": 71,
   "id": "859e2e48-7239-4b33-a553-9bca2ec3ae76",
   "metadata": {},
   "outputs": [],
   "source": [
    "new_df.drop(\"Mehmet\" , axis=1 , inplace = True)"
   ]
  },
  {
   "cell_type": "code",
   "execution_count": 72,
   "id": "afd1dea8-0913-4f41-9508-c1c57257c2fc",
   "metadata": {},
   "outputs": [
    {
     "data": {
      "text/html": [
       "<div>\n",
       "<style scoped>\n",
       "    .dataframe tbody tr th:only-of-type {\n",
       "        vertical-align: middle;\n",
       "    }\n",
       "\n",
       "    .dataframe tbody tr th {\n",
       "        vertical-align: top;\n",
       "    }\n",
       "\n",
       "    .dataframe thead th {\n",
       "        text-align: right;\n",
       "    }\n",
       "</style>\n",
       "<table border=\"1\" class=\"dataframe\">\n",
       "  <thead>\n",
       "    <tr style=\"text-align: right;\">\n",
       "      <th></th>\n",
       "      <th>Salary</th>\n",
       "      <th>Age</th>\n",
       "      <th>Seniority</th>\n",
       "      <th>Extra</th>\n",
       "    </tr>\n",
       "  </thead>\n",
       "  <tbody>\n",
       "    <tr>\n",
       "      <th>Atil</th>\n",
       "      <td>-0.825785</td>\n",
       "      <td>-0.821741</td>\n",
       "      <td>1.702729</td>\n",
       "      <td>10</td>\n",
       "    </tr>\n",
       "    <tr>\n",
       "      <th>Zeynep</th>\n",
       "      <td>-0.826025</td>\n",
       "      <td>-0.609280</td>\n",
       "      <td>-0.169197</td>\n",
       "      <td>10</td>\n",
       "    </tr>\n",
       "    <tr>\n",
       "      <th>Atlas</th>\n",
       "      <td>-0.018609</td>\n",
       "      <td>0.334303</td>\n",
       "      <td>0.017642</td>\n",
       "      <td>10</td>\n",
       "    </tr>\n",
       "    <tr>\n",
       "      <th>Mehmet</th>\n",
       "      <td>1.699578</td>\n",
       "      <td>0.069536</td>\n",
       "      <td>1.681590</td>\n",
       "      <td>10</td>\n",
       "    </tr>\n",
       "  </tbody>\n",
       "</table>\n",
       "</div>"
      ],
      "text/plain": [
       "          Salary       Age  Seniority  Extra\n",
       "Atil   -0.825785 -0.821741   1.702729     10\n",
       "Zeynep -0.826025 -0.609280  -0.169197     10\n",
       "Atlas  -0.018609  0.334303   0.017642     10\n",
       "Mehmet  1.699578  0.069536   1.681590     10"
      ]
     },
     "execution_count": 72,
     "metadata": {},
     "output_type": "execute_result"
    }
   ],
   "source": [
    "new_df"
   ]
  },
  {
   "cell_type": "code",
   "execution_count": 73,
   "id": "896fb496-1fd3-4397-b1cc-04e434aaf497",
   "metadata": {},
   "outputs": [
    {
     "data": {
      "text/html": [
       "<div>\n",
       "<style scoped>\n",
       "    .dataframe tbody tr th:only-of-type {\n",
       "        vertical-align: middle;\n",
       "    }\n",
       "\n",
       "    .dataframe tbody tr th {\n",
       "        vertical-align: top;\n",
       "    }\n",
       "\n",
       "    .dataframe thead th {\n",
       "        text-align: right;\n",
       "    }\n",
       "</style>\n",
       "<table border=\"1\" class=\"dataframe\">\n",
       "  <thead>\n",
       "    <tr style=\"text-align: right;\">\n",
       "      <th></th>\n",
       "      <th>Salary</th>\n",
       "      <th>Age</th>\n",
       "      <th>Seniority</th>\n",
       "      <th>Extra</th>\n",
       "    </tr>\n",
       "  </thead>\n",
       "  <tbody>\n",
       "    <tr>\n",
       "      <th>Atil</th>\n",
       "      <td>-0.825785</td>\n",
       "      <td>-0.821741</td>\n",
       "      <td>1.702729</td>\n",
       "      <td>10</td>\n",
       "    </tr>\n",
       "    <tr>\n",
       "      <th>Zeynep</th>\n",
       "      <td>-0.826025</td>\n",
       "      <td>-0.609280</td>\n",
       "      <td>-0.169197</td>\n",
       "      <td>10</td>\n",
       "    </tr>\n",
       "    <tr>\n",
       "      <th>Atlas</th>\n",
       "      <td>-0.018609</td>\n",
       "      <td>0.334303</td>\n",
       "      <td>0.017642</td>\n",
       "      <td>10</td>\n",
       "    </tr>\n",
       "  </tbody>\n",
       "</table>\n",
       "</div>"
      ],
      "text/plain": [
       "          Salary       Age  Seniority  Extra\n",
       "Atil   -0.825785 -0.821741   1.702729     10\n",
       "Zeynep -0.826025 -0.609280  -0.169197     10\n",
       "Atlas  -0.018609  0.334303   0.017642     10"
      ]
     },
     "execution_count": 73,
     "metadata": {},
     "output_type": "execute_result"
    }
   ],
   "source": [
    "new_df.drop(\"Mehmet\" , axis =0)"
   ]
  },
  {
   "cell_type": "code",
   "execution_count": 75,
   "id": "4d61cda4-56aa-4b02-bddf-4d2388ca208a",
   "metadata": {},
   "outputs": [],
   "source": [
    "new_df.loc[\"Atlas\",\"Salary\"] = 100"
   ]
  },
  {
   "cell_type": "code",
   "execution_count": 76,
   "id": "0b111c08-82a5-40a2-ae5b-aa8a38bb000d",
   "metadata": {},
   "outputs": [
    {
     "data": {
      "text/html": [
       "<div>\n",
       "<style scoped>\n",
       "    .dataframe tbody tr th:only-of-type {\n",
       "        vertical-align: middle;\n",
       "    }\n",
       "\n",
       "    .dataframe tbody tr th {\n",
       "        vertical-align: top;\n",
       "    }\n",
       "\n",
       "    .dataframe thead th {\n",
       "        text-align: right;\n",
       "    }\n",
       "</style>\n",
       "<table border=\"1\" class=\"dataframe\">\n",
       "  <thead>\n",
       "    <tr style=\"text-align: right;\">\n",
       "      <th></th>\n",
       "      <th>Salary</th>\n",
       "      <th>Age</th>\n",
       "      <th>Seniority</th>\n",
       "      <th>Extra</th>\n",
       "    </tr>\n",
       "  </thead>\n",
       "  <tbody>\n",
       "    <tr>\n",
       "      <th>Atil</th>\n",
       "      <td>-0.825785</td>\n",
       "      <td>-0.821741</td>\n",
       "      <td>1.702729</td>\n",
       "      <td>10</td>\n",
       "    </tr>\n",
       "    <tr>\n",
       "      <th>Zeynep</th>\n",
       "      <td>-0.826025</td>\n",
       "      <td>-0.609280</td>\n",
       "      <td>-0.169197</td>\n",
       "      <td>10</td>\n",
       "    </tr>\n",
       "    <tr>\n",
       "      <th>Atlas</th>\n",
       "      <td>100.000000</td>\n",
       "      <td>0.334303</td>\n",
       "      <td>0.017642</td>\n",
       "      <td>10</td>\n",
       "    </tr>\n",
       "    <tr>\n",
       "      <th>Mehmet</th>\n",
       "      <td>1.699578</td>\n",
       "      <td>0.069536</td>\n",
       "      <td>1.681590</td>\n",
       "      <td>10</td>\n",
       "    </tr>\n",
       "  </tbody>\n",
       "</table>\n",
       "</div>"
      ],
      "text/plain": [
       "            Salary       Age  Seniority  Extra\n",
       "Atil     -0.825785 -0.821741   1.702729     10\n",
       "Zeynep   -0.826025 -0.609280  -0.169197     10\n",
       "Atlas   100.000000  0.334303   0.017642     10\n",
       "Mehmet    1.699578  0.069536   1.681590     10"
      ]
     },
     "execution_count": 76,
     "metadata": {},
     "output_type": "execute_result"
    }
   ],
   "source": [
    "new_df"
   ]
  },
  {
   "cell_type": "code",
   "execution_count": 77,
   "id": "30cb709a-6264-4ba5-bf36-32f03a7460a3",
   "metadata": {},
   "outputs": [
    {
     "data": {
      "text/html": [
       "<div>\n",
       "<style scoped>\n",
       "    .dataframe tbody tr th:only-of-type {\n",
       "        vertical-align: middle;\n",
       "    }\n",
       "\n",
       "    .dataframe tbody tr th {\n",
       "        vertical-align: top;\n",
       "    }\n",
       "\n",
       "    .dataframe thead th {\n",
       "        text-align: right;\n",
       "    }\n",
       "</style>\n",
       "<table border=\"1\" class=\"dataframe\">\n",
       "  <thead>\n",
       "    <tr style=\"text-align: right;\">\n",
       "      <th></th>\n",
       "      <th>Salary</th>\n",
       "      <th>Age</th>\n",
       "      <th>Seniority</th>\n",
       "      <th>Extra</th>\n",
       "    </tr>\n",
       "  </thead>\n",
       "  <tbody>\n",
       "    <tr>\n",
       "      <th>Atil</th>\n",
       "      <td>False</td>\n",
       "      <td>False</td>\n",
       "      <td>True</td>\n",
       "      <td>True</td>\n",
       "    </tr>\n",
       "    <tr>\n",
       "      <th>Zeynep</th>\n",
       "      <td>False</td>\n",
       "      <td>False</td>\n",
       "      <td>False</td>\n",
       "      <td>True</td>\n",
       "    </tr>\n",
       "    <tr>\n",
       "      <th>Atlas</th>\n",
       "      <td>True</td>\n",
       "      <td>True</td>\n",
       "      <td>True</td>\n",
       "      <td>True</td>\n",
       "    </tr>\n",
       "    <tr>\n",
       "      <th>Mehmet</th>\n",
       "      <td>True</td>\n",
       "      <td>True</td>\n",
       "      <td>True</td>\n",
       "      <td>True</td>\n",
       "    </tr>\n",
       "  </tbody>\n",
       "</table>\n",
       "</div>"
      ],
      "text/plain": [
       "        Salary    Age  Seniority  Extra\n",
       "Atil     False  False       True   True\n",
       "Zeynep   False  False      False   True\n",
       "Atlas     True   True       True   True\n",
       "Mehmet    True   True       True   True"
      ]
     },
     "execution_count": 77,
     "metadata": {},
     "output_type": "execute_result"
    }
   ],
   "source": [
    "new_df >0"
   ]
  },
  {
   "cell_type": "code",
   "execution_count": 78,
   "id": "75e10e5c-5a00-4607-b73f-0761cf0b7abb",
   "metadata": {},
   "outputs": [
    {
     "data": {
      "text/html": [
       "<div>\n",
       "<style scoped>\n",
       "    .dataframe tbody tr th:only-of-type {\n",
       "        vertical-align: middle;\n",
       "    }\n",
       "\n",
       "    .dataframe tbody tr th {\n",
       "        vertical-align: top;\n",
       "    }\n",
       "\n",
       "    .dataframe thead th {\n",
       "        text-align: right;\n",
       "    }\n",
       "</style>\n",
       "<table border=\"1\" class=\"dataframe\">\n",
       "  <thead>\n",
       "    <tr style=\"text-align: right;\">\n",
       "      <th></th>\n",
       "      <th>Salary</th>\n",
       "      <th>Age</th>\n",
       "      <th>Seniority</th>\n",
       "      <th>Extra</th>\n",
       "    </tr>\n",
       "  </thead>\n",
       "  <tbody>\n",
       "    <tr>\n",
       "      <th>Atil</th>\n",
       "      <td>NaN</td>\n",
       "      <td>NaN</td>\n",
       "      <td>1.702729</td>\n",
       "      <td>10</td>\n",
       "    </tr>\n",
       "    <tr>\n",
       "      <th>Zeynep</th>\n",
       "      <td>NaN</td>\n",
       "      <td>NaN</td>\n",
       "      <td>NaN</td>\n",
       "      <td>10</td>\n",
       "    </tr>\n",
       "    <tr>\n",
       "      <th>Atlas</th>\n",
       "      <td>100.000000</td>\n",
       "      <td>0.334303</td>\n",
       "      <td>0.017642</td>\n",
       "      <td>10</td>\n",
       "    </tr>\n",
       "    <tr>\n",
       "      <th>Mehmet</th>\n",
       "      <td>1.699578</td>\n",
       "      <td>0.069536</td>\n",
       "      <td>1.681590</td>\n",
       "      <td>10</td>\n",
       "    </tr>\n",
       "  </tbody>\n",
       "</table>\n",
       "</div>"
      ],
      "text/plain": [
       "            Salary       Age  Seniority  Extra\n",
       "Atil           NaN       NaN   1.702729     10\n",
       "Zeynep         NaN       NaN        NaN     10\n",
       "Atlas   100.000000  0.334303   0.017642     10\n",
       "Mehmet    1.699578  0.069536   1.681590     10"
      ]
     },
     "execution_count": 78,
     "metadata": {},
     "output_type": "execute_result"
    }
   ],
   "source": [
    "new_df[new_df > 0 ]"
   ]
  },
  {
   "cell_type": "code",
   "execution_count": 81,
   "id": "d8215d3b-c89f-47e1-a0dd-e37807e38ff3",
   "metadata": {},
   "outputs": [
    {
     "data": {
      "text/html": [
       "<div>\n",
       "<style scoped>\n",
       "    .dataframe tbody tr th:only-of-type {\n",
       "        vertical-align: middle;\n",
       "    }\n",
       "\n",
       "    .dataframe tbody tr th {\n",
       "        vertical-align: top;\n",
       "    }\n",
       "\n",
       "    .dataframe thead th {\n",
       "        text-align: right;\n",
       "    }\n",
       "</style>\n",
       "<table border=\"1\" class=\"dataframe\">\n",
       "  <thead>\n",
       "    <tr style=\"text-align: right;\">\n",
       "      <th></th>\n",
       "      <th>Salary</th>\n",
       "      <th>Age</th>\n",
       "      <th>Seniority</th>\n",
       "      <th>Extra</th>\n",
       "    </tr>\n",
       "  </thead>\n",
       "  <tbody>\n",
       "    <tr>\n",
       "      <th>Atlas</th>\n",
       "      <td>100.000000</td>\n",
       "      <td>0.334303</td>\n",
       "      <td>0.017642</td>\n",
       "      <td>10</td>\n",
       "    </tr>\n",
       "    <tr>\n",
       "      <th>Mehmet</th>\n",
       "      <td>1.699578</td>\n",
       "      <td>0.069536</td>\n",
       "      <td>1.681590</td>\n",
       "      <td>10</td>\n",
       "    </tr>\n",
       "  </tbody>\n",
       "</table>\n",
       "</div>"
      ],
      "text/plain": [
       "            Salary       Age  Seniority  Extra\n",
       "Atlas   100.000000  0.334303   0.017642     10\n",
       "Mehmet    1.699578  0.069536   1.681590     10"
      ]
     },
     "execution_count": 81,
     "metadata": {},
     "output_type": "execute_result"
    }
   ],
   "source": [
    "new_df[new_df[\"Salary\"] > 1 ]"
   ]
  },
  {
   "cell_type": "code",
   "execution_count": 82,
   "id": "9a2636ad-5408-4772-ad8b-6d9b6c08cd66",
   "metadata": {},
   "outputs": [
    {
     "data": {
      "text/html": [
       "<div>\n",
       "<style scoped>\n",
       "    .dataframe tbody tr th:only-of-type {\n",
       "        vertical-align: middle;\n",
       "    }\n",
       "\n",
       "    .dataframe tbody tr th {\n",
       "        vertical-align: top;\n",
       "    }\n",
       "\n",
       "    .dataframe thead th {\n",
       "        text-align: right;\n",
       "    }\n",
       "</style>\n",
       "<table border=\"1\" class=\"dataframe\">\n",
       "  <thead>\n",
       "    <tr style=\"text-align: right;\">\n",
       "      <th></th>\n",
       "      <th>index</th>\n",
       "      <th>Salary</th>\n",
       "      <th>Age</th>\n",
       "      <th>Seniority</th>\n",
       "      <th>Extra</th>\n",
       "    </tr>\n",
       "  </thead>\n",
       "  <tbody>\n",
       "    <tr>\n",
       "      <th>0</th>\n",
       "      <td>Atil</td>\n",
       "      <td>-0.825785</td>\n",
       "      <td>-0.821741</td>\n",
       "      <td>1.702729</td>\n",
       "      <td>10</td>\n",
       "    </tr>\n",
       "    <tr>\n",
       "      <th>1</th>\n",
       "      <td>Zeynep</td>\n",
       "      <td>-0.826025</td>\n",
       "      <td>-0.609280</td>\n",
       "      <td>-0.169197</td>\n",
       "      <td>10</td>\n",
       "    </tr>\n",
       "    <tr>\n",
       "      <th>2</th>\n",
       "      <td>Atlas</td>\n",
       "      <td>100.000000</td>\n",
       "      <td>0.334303</td>\n",
       "      <td>0.017642</td>\n",
       "      <td>10</td>\n",
       "    </tr>\n",
       "    <tr>\n",
       "      <th>3</th>\n",
       "      <td>Mehmet</td>\n",
       "      <td>1.699578</td>\n",
       "      <td>0.069536</td>\n",
       "      <td>1.681590</td>\n",
       "      <td>10</td>\n",
       "    </tr>\n",
       "  </tbody>\n",
       "</table>\n",
       "</div>"
      ],
      "text/plain": [
       "    index      Salary       Age  Seniority  Extra\n",
       "0    Atil   -0.825785 -0.821741   1.702729     10\n",
       "1  Zeynep   -0.826025 -0.609280  -0.169197     10\n",
       "2   Atlas  100.000000  0.334303   0.017642     10\n",
       "3  Mehmet    1.699578  0.069536   1.681590     10"
      ]
     },
     "execution_count": 82,
     "metadata": {},
     "output_type": "execute_result"
    }
   ],
   "source": [
    "new_df.reset_index()"
   ]
  },
  {
   "cell_type": "code",
   "execution_count": 83,
   "id": "2a0e164b-6e47-4677-9a1d-5c82ad0cbed8",
   "metadata": {},
   "outputs": [
    {
     "data": {
      "text/html": [
       "<div>\n",
       "<style scoped>\n",
       "    .dataframe tbody tr th:only-of-type {\n",
       "        vertical-align: middle;\n",
       "    }\n",
       "\n",
       "    .dataframe tbody tr th {\n",
       "        vertical-align: top;\n",
       "    }\n",
       "\n",
       "    .dataframe thead th {\n",
       "        text-align: right;\n",
       "    }\n",
       "</style>\n",
       "<table border=\"1\" class=\"dataframe\">\n",
       "  <thead>\n",
       "    <tr style=\"text-align: right;\">\n",
       "      <th></th>\n",
       "      <th>Salary</th>\n",
       "      <th>Age</th>\n",
       "      <th>Seniority</th>\n",
       "      <th>Extra</th>\n",
       "    </tr>\n",
       "  </thead>\n",
       "  <tbody>\n",
       "    <tr>\n",
       "      <th>Atil</th>\n",
       "      <td>-0.825785</td>\n",
       "      <td>-0.821741</td>\n",
       "      <td>1.702729</td>\n",
       "      <td>10</td>\n",
       "    </tr>\n",
       "    <tr>\n",
       "      <th>Zeynep</th>\n",
       "      <td>-0.826025</td>\n",
       "      <td>-0.609280</td>\n",
       "      <td>-0.169197</td>\n",
       "      <td>10</td>\n",
       "    </tr>\n",
       "    <tr>\n",
       "      <th>Atlas</th>\n",
       "      <td>100.000000</td>\n",
       "      <td>0.334303</td>\n",
       "      <td>0.017642</td>\n",
       "      <td>10</td>\n",
       "    </tr>\n",
       "    <tr>\n",
       "      <th>Mehmet</th>\n",
       "      <td>1.699578</td>\n",
       "      <td>0.069536</td>\n",
       "      <td>1.681590</td>\n",
       "      <td>10</td>\n",
       "    </tr>\n",
       "  </tbody>\n",
       "</table>\n",
       "</div>"
      ],
      "text/plain": [
       "            Salary       Age  Seniority  Extra\n",
       "Atil     -0.825785 -0.821741   1.702729     10\n",
       "Zeynep   -0.826025 -0.609280  -0.169197     10\n",
       "Atlas   100.000000  0.334303   0.017642     10\n",
       "Mehmet    1.699578  0.069536   1.681590     10"
      ]
     },
     "execution_count": 83,
     "metadata": {},
     "output_type": "execute_result"
    }
   ],
   "source": [
    "new_df"
   ]
  },
  {
   "cell_type": "code",
   "execution_count": 86,
   "id": "d820e4f6-e688-4464-9340-e646ca0b6f0a",
   "metadata": {},
   "outputs": [],
   "source": [
    "reset_frame = new_df.reset_index()"
   ]
  },
  {
   "cell_type": "code",
   "execution_count": 92,
   "id": "ad0e7815-df3c-4fe6-9466-2d7186fb197b",
   "metadata": {},
   "outputs": [
    {
     "data": {
      "text/plain": [
       "index            Atil\n",
       "Salary      -0.825785\n",
       "Age         -0.821741\n",
       "Seniority    1.702729\n",
       "Extra              10\n",
       "Name: 0, dtype: object"
      ]
     },
     "execution_count": 92,
     "metadata": {},
     "output_type": "execute_result"
    }
   ],
   "source": [
    "reset_frame.loc[0]"
   ]
  },
  {
   "cell_type": "code",
   "execution_count": 99,
   "id": "4bf66399-99ac-4a91-9685-032a7e9f4354",
   "metadata": {},
   "outputs": [],
   "source": [
    "new_indices = [\"Ati\" ,\"zey\" , \"meh\" ,\"atl\"]\n",
    "new_df[\"newIndex\"] = new_indices"
   ]
  },
  {
   "cell_type": "code",
   "execution_count": 100,
   "id": "0d339dea-7016-49f1-907f-0d6073d95e19",
   "metadata": {},
   "outputs": [
    {
     "data": {
      "text/html": [
       "<div>\n",
       "<style scoped>\n",
       "    .dataframe tbody tr th:only-of-type {\n",
       "        vertical-align: middle;\n",
       "    }\n",
       "\n",
       "    .dataframe tbody tr th {\n",
       "        vertical-align: top;\n",
       "    }\n",
       "\n",
       "    .dataframe thead th {\n",
       "        text-align: right;\n",
       "    }\n",
       "</style>\n",
       "<table border=\"1\" class=\"dataframe\">\n",
       "  <thead>\n",
       "    <tr style=\"text-align: right;\">\n",
       "      <th></th>\n",
       "      <th>Salary</th>\n",
       "      <th>Age</th>\n",
       "      <th>Seniority</th>\n",
       "      <th>Extra</th>\n",
       "      <th>neIndex</th>\n",
       "      <th>newIndex</th>\n",
       "    </tr>\n",
       "  </thead>\n",
       "  <tbody>\n",
       "    <tr>\n",
       "      <th>Atil</th>\n",
       "      <td>-0.825785</td>\n",
       "      <td>-0.821741</td>\n",
       "      <td>1.702729</td>\n",
       "      <td>10</td>\n",
       "      <td>Ati</td>\n",
       "      <td>Ati</td>\n",
       "    </tr>\n",
       "    <tr>\n",
       "      <th>Zeynep</th>\n",
       "      <td>-0.826025</td>\n",
       "      <td>-0.609280</td>\n",
       "      <td>-0.169197</td>\n",
       "      <td>10</td>\n",
       "      <td>zey</td>\n",
       "      <td>zey</td>\n",
       "    </tr>\n",
       "    <tr>\n",
       "      <th>Atlas</th>\n",
       "      <td>100.000000</td>\n",
       "      <td>0.334303</td>\n",
       "      <td>0.017642</td>\n",
       "      <td>10</td>\n",
       "      <td>meh</td>\n",
       "      <td>meh</td>\n",
       "    </tr>\n",
       "    <tr>\n",
       "      <th>Mehmet</th>\n",
       "      <td>1.699578</td>\n",
       "      <td>0.069536</td>\n",
       "      <td>1.681590</td>\n",
       "      <td>10</td>\n",
       "      <td>atl</td>\n",
       "      <td>atl</td>\n",
       "    </tr>\n",
       "  </tbody>\n",
       "</table>\n",
       "</div>"
      ],
      "text/plain": [
       "            Salary       Age  Seniority  Extra neIndex newIndex\n",
       "Atil     -0.825785 -0.821741   1.702729     10     Ati      Ati\n",
       "Zeynep   -0.826025 -0.609280  -0.169197     10     zey      zey\n",
       "Atlas   100.000000  0.334303   0.017642     10     meh      meh\n",
       "Mehmet    1.699578  0.069536   1.681590     10     atl      atl"
      ]
     },
     "execution_count": 100,
     "metadata": {},
     "output_type": "execute_result"
    }
   ],
   "source": [
    "new_df"
   ]
  },
  {
   "cell_type": "code",
   "execution_count": 105,
   "id": "b9fdebdf-35c2-47d8-877b-b66ec7ee69d7",
   "metadata": {},
   "outputs": [],
   "source": [
    "new_df.drop(\"neIndex\", axis=1, inplace=True)\n"
   ]
  },
  {
   "cell_type": "code",
   "execution_count": 106,
   "id": "372a888a-3438-4def-a94a-5f20d508dd3a",
   "metadata": {},
   "outputs": [
    {
     "data": {
      "text/html": [
       "<div>\n",
       "<style scoped>\n",
       "    .dataframe tbody tr th:only-of-type {\n",
       "        vertical-align: middle;\n",
       "    }\n",
       "\n",
       "    .dataframe tbody tr th {\n",
       "        vertical-align: top;\n",
       "    }\n",
       "\n",
       "    .dataframe thead th {\n",
       "        text-align: right;\n",
       "    }\n",
       "</style>\n",
       "<table border=\"1\" class=\"dataframe\">\n",
       "  <thead>\n",
       "    <tr style=\"text-align: right;\">\n",
       "      <th></th>\n",
       "      <th>Salary</th>\n",
       "      <th>Age</th>\n",
       "      <th>Seniority</th>\n",
       "      <th>Extra</th>\n",
       "      <th>newIndex</th>\n",
       "    </tr>\n",
       "  </thead>\n",
       "  <tbody>\n",
       "    <tr>\n",
       "      <th>Atil</th>\n",
       "      <td>-0.825785</td>\n",
       "      <td>-0.821741</td>\n",
       "      <td>1.702729</td>\n",
       "      <td>10</td>\n",
       "      <td>Ati</td>\n",
       "    </tr>\n",
       "    <tr>\n",
       "      <th>Zeynep</th>\n",
       "      <td>-0.826025</td>\n",
       "      <td>-0.609280</td>\n",
       "      <td>-0.169197</td>\n",
       "      <td>10</td>\n",
       "      <td>zey</td>\n",
       "    </tr>\n",
       "    <tr>\n",
       "      <th>Atlas</th>\n",
       "      <td>100.000000</td>\n",
       "      <td>0.334303</td>\n",
       "      <td>0.017642</td>\n",
       "      <td>10</td>\n",
       "      <td>meh</td>\n",
       "    </tr>\n",
       "    <tr>\n",
       "      <th>Mehmet</th>\n",
       "      <td>1.699578</td>\n",
       "      <td>0.069536</td>\n",
       "      <td>1.681590</td>\n",
       "      <td>10</td>\n",
       "      <td>atl</td>\n",
       "    </tr>\n",
       "  </tbody>\n",
       "</table>\n",
       "</div>"
      ],
      "text/plain": [
       "            Salary       Age  Seniority  Extra newIndex\n",
       "Atil     -0.825785 -0.821741   1.702729     10      Ati\n",
       "Zeynep   -0.826025 -0.609280  -0.169197     10      zey\n",
       "Atlas   100.000000  0.334303   0.017642     10      meh\n",
       "Mehmet    1.699578  0.069536   1.681590     10      atl"
      ]
     },
     "execution_count": 106,
     "metadata": {},
     "output_type": "execute_result"
    }
   ],
   "source": [
    "new_df"
   ]
  },
  {
   "cell_type": "code",
   "execution_count": 107,
   "id": "17ee14fb-a305-441a-9e2f-7f180fa9ada2",
   "metadata": {},
   "outputs": [],
   "source": [
    "new_df.set_index(\"newIndex\" , inplace =True)"
   ]
  },
  {
   "cell_type": "code",
   "execution_count": 108,
   "id": "692262c0-86d9-475c-b810-055966983754",
   "metadata": {},
   "outputs": [
    {
     "data": {
      "text/html": [
       "<div>\n",
       "<style scoped>\n",
       "    .dataframe tbody tr th:only-of-type {\n",
       "        vertical-align: middle;\n",
       "    }\n",
       "\n",
       "    .dataframe tbody tr th {\n",
       "        vertical-align: top;\n",
       "    }\n",
       "\n",
       "    .dataframe thead th {\n",
       "        text-align: right;\n",
       "    }\n",
       "</style>\n",
       "<table border=\"1\" class=\"dataframe\">\n",
       "  <thead>\n",
       "    <tr style=\"text-align: right;\">\n",
       "      <th></th>\n",
       "      <th>Salary</th>\n",
       "      <th>Age</th>\n",
       "      <th>Seniority</th>\n",
       "      <th>Extra</th>\n",
       "    </tr>\n",
       "    <tr>\n",
       "      <th>newIndex</th>\n",
       "      <th></th>\n",
       "      <th></th>\n",
       "      <th></th>\n",
       "      <th></th>\n",
       "    </tr>\n",
       "  </thead>\n",
       "  <tbody>\n",
       "    <tr>\n",
       "      <th>Ati</th>\n",
       "      <td>-0.825785</td>\n",
       "      <td>-0.821741</td>\n",
       "      <td>1.702729</td>\n",
       "      <td>10</td>\n",
       "    </tr>\n",
       "    <tr>\n",
       "      <th>zey</th>\n",
       "      <td>-0.826025</td>\n",
       "      <td>-0.609280</td>\n",
       "      <td>-0.169197</td>\n",
       "      <td>10</td>\n",
       "    </tr>\n",
       "    <tr>\n",
       "      <th>meh</th>\n",
       "      <td>100.000000</td>\n",
       "      <td>0.334303</td>\n",
       "      <td>0.017642</td>\n",
       "      <td>10</td>\n",
       "    </tr>\n",
       "    <tr>\n",
       "      <th>atl</th>\n",
       "      <td>1.699578</td>\n",
       "      <td>0.069536</td>\n",
       "      <td>1.681590</td>\n",
       "      <td>10</td>\n",
       "    </tr>\n",
       "  </tbody>\n",
       "</table>\n",
       "</div>"
      ],
      "text/plain": [
       "              Salary       Age  Seniority  Extra\n",
       "newIndex                                        \n",
       "Ati        -0.825785 -0.821741   1.702729     10\n",
       "zey        -0.826025 -0.609280  -0.169197     10\n",
       "meh       100.000000  0.334303   0.017642     10\n",
       "atl         1.699578  0.069536   1.681590     10"
      ]
     },
     "execution_count": 108,
     "metadata": {},
     "output_type": "execute_result"
    }
   ],
   "source": [
    "new_df"
   ]
  },
  {
   "cell_type": "code",
   "execution_count": 109,
   "id": "5d19c6e3-bd4d-4466-b5d0-38d7d60debb2",
   "metadata": {},
   "outputs": [
    {
     "data": {
      "text/plain": [
       "Salary       -0.825785\n",
       "Age          -0.821741\n",
       "Seniority     1.702729\n",
       "Extra        10.000000\n",
       "Name: Ati, dtype: float64"
      ]
     },
     "execution_count": 109,
     "metadata": {},
     "output_type": "execute_result"
    }
   ],
   "source": [
    "new_df.loc[\"Ati\"]"
   ]
  },
  {
   "cell_type": "code",
   "execution_count": 110,
   "id": "69496906-55d1-473f-91d1-7cd6b82989f0",
   "metadata": {},
   "outputs": [],
   "source": [
    "  # multi index "
   ]
  },
  {
   "cell_type": "code",
   "execution_count": 111,
   "id": "ff353f07-1791-4afb-93ef-4af48ffb5376",
   "metadata": {},
   "outputs": [],
   "source": [
    "first_index = [\"Simpson\" ,\"Simpson\" ,\"Simpson\" ,\"Simpson\" ,\"Sout Park\" ,\"South Park\" ]"
   ]
  },
  {
   "cell_type": "code",
   "execution_count": 112,
   "id": "706b28af-538d-457a-b770-b8b3b065a6f1",
   "metadata": {},
   "outputs": [],
   "source": [
    "inner_index = [\"Homer\", \"Bart\" , \"Marge\", \"Cartman\"]"
   ]
  },
  {
   "cell_type": "code",
   "execution_count": 113,
   "id": "74fe59c4-b332-4564-a600-9169e68c7c05",
   "metadata": {},
   "outputs": [],
   "source": [
    "zipped_list = list(zip(first_index , inner_index))"
   ]
  },
  {
   "cell_type": "code",
   "execution_count": 114,
   "id": "c1e40d86-17c7-4631-b45c-116ebc7f6990",
   "metadata": {},
   "outputs": [
    {
     "data": {
      "text/plain": [
       "[('Simpson', 'Homer'),\n",
       " ('Simpson', 'Bart'),\n",
       " ('Simpson', 'Marge'),\n",
       " ('Simpson', 'Cartman')]"
      ]
     },
     "execution_count": 114,
     "metadata": {},
     "output_type": "execute_result"
    }
   ],
   "source": [
    " zipped_list"
   ]
  },
  {
   "cell_type": "code",
   "execution_count": 115,
   "id": "6e9cd182-b8ff-4a08-8923-41b709f65b35",
   "metadata": {},
   "outputs": [],
   "source": [
    " zipped_list = pd.MultiIndex.from_tuples(zipped_list)"
   ]
  },
  {
   "cell_type": "code",
   "execution_count": 116,
   "id": "65c3f665-b071-425a-add5-f4190f8572a6",
   "metadata": {},
   "outputs": [
    {
     "data": {
      "text/plain": [
       "MultiIndex([('Simpson',   'Homer'),\n",
       "            ('Simpson',    'Bart'),\n",
       "            ('Simpson',   'Marge'),\n",
       "            ('Simpson', 'Cartman')],\n",
       "           )"
      ]
     },
     "execution_count": 116,
     "metadata": {},
     "output_type": "execute_result"
    }
   ],
   "source": [
    " zipped_list"
   ]
  },
  {
   "cell_type": "code",
   "execution_count": null,
   "id": "95c9ca56-b6c8-46ed-870e-69e2d2f8ed76",
   "metadata": {},
   "outputs": [],
   "source": []
  }
 ],
 "metadata": {
  "kernelspec": {
   "display_name": "Python [conda env:base] *",
   "language": "python",
   "name": "conda-base-py"
  },
  "language_info": {
   "codemirror_mode": {
    "name": "ipython",
    "version": 3
   },
   "file_extension": ".py",
   "mimetype": "text/x-python",
   "name": "python",
   "nbconvert_exporter": "python",
   "pygments_lexer": "ipython3",
   "version": "3.11.7"
  }
 },
 "nbformat": 4,
 "nbformat_minor": 5
}
