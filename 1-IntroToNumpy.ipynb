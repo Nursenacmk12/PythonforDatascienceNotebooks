{
 "cells": [
  {
   "cell_type": "code",
   "execution_count": 1,
   "id": "724b2f36-e3d2-4079-a6da-3c696fbc3ae5",
   "metadata": {},
   "outputs": [],
   "source": [
    "import numpy as np"
   ]
  },
  {
   "cell_type": "code",
   "execution_count": 2,
   "id": "794bb444-1399-4a8f-83fa-24455b0049ab",
   "metadata": {},
   "outputs": [
    {
     "data": {
      "text/plain": [
       "list"
      ]
     },
     "execution_count": 2,
     "metadata": {},
     "output_type": "execute_result"
    }
   ],
   "source": [
    "my_list=[10,20,30,40]\n",
    "type(my_list)"
   ]
  },
  {
   "cell_type": "code",
   "execution_count": 4,
   "id": "8ee58ec6-48bd-4846-a71a-f388f1c30366",
   "metadata": {},
   "outputs": [
    {
     "data": {
      "text/plain": [
       "array([10, 20, 30, 40])"
      ]
     },
     "execution_count": 4,
     "metadata": {},
     "output_type": "execute_result"
    }
   ],
   "source": [
    "np.array(my_list)"
   ]
  },
  {
   "cell_type": "code",
   "execution_count": 5,
   "id": "6400a7d5-ac6e-46f0-bed4-73dc9af82a2e",
   "metadata": {},
   "outputs": [],
   "source": [
    "my_numpy_array=np.array(my_list)"
   ]
  },
  {
   "cell_type": "code",
   "execution_count": 6,
   "id": "9486f38d-8cfa-47fd-af43-e63448a72322",
   "metadata": {},
   "outputs": [
    {
     "data": {
      "text/plain": [
       "numpy.ndarray"
      ]
     },
     "execution_count": 6,
     "metadata": {},
     "output_type": "execute_result"
    }
   ],
   "source": [
    "type(my_numpy_array)"
   ]
  },
  {
   "cell_type": "code",
   "execution_count": 7,
   "id": "aa6df9d2-b5ff-491b-a90b-8b5548ab3fb7",
   "metadata": {},
   "outputs": [
    {
     "data": {
      "text/plain": [
       "40"
      ]
     },
     "execution_count": 7,
     "metadata": {},
     "output_type": "execute_result"
    }
   ],
   "source": [
    "my_numpy_array.max()"
   ]
  },
  {
   "cell_type": "code",
   "execution_count": 8,
   "id": "17b27f5c-b839-4745-ae8d-ae1dc9a9da6d",
   "metadata": {},
   "outputs": [
    {
     "data": {
      "text/plain": [
       "array([1., 1., 1., 1., 1.])"
      ]
     },
     "execution_count": 8,
     "metadata": {},
     "output_type": "execute_result"
    }
   ],
   "source": [
    "np.ones(5)"
   ]
  },
  {
   "cell_type": "code",
   "execution_count": 9,
   "id": "206d64a7-9143-4bbd-8b94-6b68e412380d",
   "metadata": {},
   "outputs": [
    {
     "data": {
      "text/plain": [
       "array([0., 0., 0., 0., 0., 0., 0., 0., 0.])"
      ]
     },
     "execution_count": 9,
     "metadata": {},
     "output_type": "execute_result"
    }
   ],
   "source": [
    "np.zeros(9)\n"
   ]
  },
  {
   "cell_type": "code",
   "execution_count": 10,
   "id": "065d8298-2e24-4fa7-8460-15b79582a4b8",
   "metadata": {},
   "outputs": [
    {
     "data": {
      "text/plain": [
       "array([0.66878508, 0.09929445, 0.12553725, 0.63033435, 0.96926029])"
      ]
     },
     "execution_count": 10,
     "metadata": {},
     "output_type": "execute_result"
    }
   ],
   "source": [
    "np.random.random(5)"
   ]
  },
  {
   "cell_type": "code",
   "execution_count": 11,
   "id": "5f629a41-4a8c-442b-805e-da5e4c579824",
   "metadata": {},
   "outputs": [],
   "source": [
    "my_list1=[1,2]"
   ]
  },
  {
   "cell_type": "code",
   "execution_count": 12,
   "id": "8c74b06c-8500-415c-8575-a1bf6e3c6e0e",
   "metadata": {},
   "outputs": [],
   "source": [
    "my_list2 = [3,4]"
   ]
  },
  {
   "cell_type": "code",
   "execution_count": 16,
   "id": "53f2e89c-ff53-407b-bde8-35624374a606",
   "metadata": {},
   "outputs": [
    {
     "data": {
      "text/plain": [
       "[1, 2, 3, 4]"
      ]
     },
     "execution_count": 16,
     "metadata": {},
     "output_type": "execute_result"
    }
   ],
   "source": [
    "my_list1 + my_list2"
   ]
  },
  {
   "cell_type": "code",
   "execution_count": 17,
   "id": "de3dce2e-6b67-44b9-a9d2-156b649dad96",
   "metadata": {},
   "outputs": [],
   "source": [
    "my_numpy_array1 = np.array(my_list1)"
   ]
  },
  {
   "cell_type": "code",
   "execution_count": 18,
   "id": "19dca408-bf09-4622-9e94-66fa2e5a9e3a",
   "metadata": {},
   "outputs": [],
   "source": [
    "my_numpy_array2 = np.array(my_list2)"
   ]
  },
  {
   "cell_type": "code",
   "execution_count": 19,
   "id": "04b94ad0-b96c-4452-87bb-76d2909fe27e",
   "metadata": {},
   "outputs": [
    {
     "data": {
      "text/plain": [
       "array([4, 6])"
      ]
     },
     "execution_count": 19,
     "metadata": {},
     "output_type": "execute_result"
    }
   ],
   "source": [
    "my_numpy_array1 + my_numpy_array2"
   ]
  },
  {
   "cell_type": "code",
   "execution_count": 20,
   "id": "e33224cc-5b3c-4b19-85bd-ec63949d2e90",
   "metadata": {},
   "outputs": [
    {
     "data": {
      "text/plain": [
       "array([3, 8])"
      ]
     },
     "execution_count": 20,
     "metadata": {},
     "output_type": "execute_result"
    }
   ],
   "source": [
    "my_numpy_array1 * my_numpy_array2"
   ]
  },
  {
   "cell_type": "code",
   "execution_count": 21,
   "id": "c21b7659-9de7-415a-8780-7bd96461b96e",
   "metadata": {},
   "outputs": [
    {
     "data": {
      "text/plain": [
       "array([0.33333333, 0.5       ])"
      ]
     },
     "execution_count": 21,
     "metadata": {},
     "output_type": "execute_result"
    }
   ],
   "source": [
    "my_numpy_array1 / my_numpy_array2"
   ]
  },
  {
   "cell_type": "code",
   "execution_count": 22,
   "id": "464000c0-e051-4ea9-ad4c-47439c34d751",
   "metadata": {},
   "outputs": [
    {
     "data": {
      "text/plain": [
       "array([ 5, 10])"
      ]
     },
     "execution_count": 22,
     "metadata": {},
     "output_type": "execute_result"
    }
   ],
   "source": [
    " my_numpy_array1 *5"
   ]
  },
  {
   "cell_type": "code",
   "execution_count": 23,
   "id": "70877ec6-7015-4a69-8e18-efab79bbe99f",
   "metadata": {},
   "outputs": [
    {
     "data": {
      "text/plain": [
       "[1, 2, 1, 2, 1, 2, 1, 2, 1, 2]"
      ]
     },
     "execution_count": 23,
     "metadata": {},
     "output_type": "execute_result"
    }
   ],
   "source": [
    "my_list1 * 5"
   ]
  },
  {
   "cell_type": "code",
   "execution_count": 24,
   "id": "7967e4dc-51e7-404f-96e7-9002b7af3f5b",
   "metadata": {},
   "outputs": [],
   "source": [
    "other_array=np.array([10,20,30,40])"
   ]
  },
  {
   "cell_type": "code",
   "execution_count": 26,
   "id": "46564cb9-6fa0-44b3-bed3-361105ae1472",
   "metadata": {},
   "outputs": [
    {
     "data": {
      "text/plain": [
       "10"
      ]
     },
     "execution_count": 26,
     "metadata": {},
     "output_type": "execute_result"
    }
   ],
   "source": [
    "other_array.min()"
   ]
  },
  {
   "cell_type": "code",
   "execution_count": 27,
   "id": "60a6313e-0963-4a92-9b47-87676efe4730",
   "metadata": {},
   "outputs": [
    {
     "data": {
      "text/plain": [
       "100"
      ]
     },
     "execution_count": 27,
     "metadata": {},
     "output_type": "execute_result"
    }
   ],
   "source": [
    "other_array.sum()"
   ]
  },
  {
   "cell_type": "code",
   "execution_count": 28,
   "id": "f7b38e62-557a-4fd5-ab1e-7388981aa76e",
   "metadata": {},
   "outputs": [
    {
     "data": {
      "text/plain": [
       "array([1, 2])"
      ]
     },
     "execution_count": 28,
     "metadata": {},
     "output_type": "execute_result"
    }
   ],
   "source": [
    "my_numpy_array1"
   ]
  },
  {
   "cell_type": "code",
   "execution_count": 29,
   "id": "d86d4c69-0a60-4893-b20b-9635dcd4fefe",
   "metadata": {},
   "outputs": [
    {
     "ename": "ValueError",
     "evalue": "operands could not be broadcast together with shapes (4,) (2,) ",
     "output_type": "error",
     "traceback": [
      "\u001b[1;31m---------------------------------------------------------------------------\u001b[0m",
      "\u001b[1;31mValueError\u001b[0m                                Traceback (most recent call last)",
      "Cell \u001b[1;32mIn[29], line 1\u001b[0m\n\u001b[1;32m----> 1\u001b[0m other_array\u001b[38;5;241m+\u001b[39m my_numpy_array1\n",
      "\u001b[1;31mValueError\u001b[0m: operands could not be broadcast together with shapes (4,) (2,) "
     ]
    }
   ],
   "source": [
    "#other_array+ my_numpy_array1 #"
   ]
  },
  {
   "cell_type": "code",
   "execution_count": 30,
   "id": "f61a4dc2-f290-4894-9b1c-87739ad50e5f",
   "metadata": {},
   "outputs": [],
   "source": [
    "# araange and indexing"
   ]
  },
  {
   "cell_type": "code",
   "execution_count": 33,
   "id": "899506dc-0360-4038-955e-c9ac2716c372",
   "metadata": {},
   "outputs": [
    {
     "data": {
      "text/plain": [
       "[0, 1, 2, 3, 4, 5, 6, 7, 8, 9]"
      ]
     },
     "execution_count": 33,
     "metadata": {},
     "output_type": "execute_result"
    }
   ],
   "source": [
    "list(range(0,10))"
   ]
  },
  {
   "cell_type": "code",
   "execution_count": 36,
   "id": "a7819c84-823b-45a9-9cbf-ba14b0839796",
   "metadata": {},
   "outputs": [],
   "source": [
    "np_array =np.arange(0,10)"
   ]
  },
  {
   "cell_type": "code",
   "execution_count": 37,
   "id": "eb1ccc87-0ffe-4066-accf-c814f0bd7d5a",
   "metadata": {},
   "outputs": [
    {
     "data": {
      "text/plain": [
       "0"
      ]
     },
     "execution_count": 37,
     "metadata": {},
     "output_type": "execute_result"
    }
   ],
   "source": [
    "np_array[0]"
   ]
  },
  {
   "cell_type": "code",
   "execution_count": 38,
   "id": "6593b4f3-f71f-45f2-a97f-cbec417c790a",
   "metadata": {},
   "outputs": [
    {
     "data": {
      "text/plain": [
       "9"
      ]
     },
     "execution_count": 38,
     "metadata": {},
     "output_type": "execute_result"
    }
   ],
   "source": [
    "np_array[-1]"
   ]
  },
  {
   "cell_type": "code",
   "execution_count": 39,
   "id": "debe8536-93aa-4917-b00b-52d9af216e6a",
   "metadata": {},
   "outputs": [
    {
     "data": {
      "text/plain": [
       "array([1, 2, 3])"
      ]
     },
     "execution_count": 39,
     "metadata": {},
     "output_type": "execute_result"
    }
   ],
   "source": [
    "np_array[1:4]"
   ]
  },
  {
   "cell_type": "code",
   "execution_count": 40,
   "id": "b2a0e99f-601b-4453-aa9d-94e6945aad2a",
   "metadata": {},
   "outputs": [
    {
     "data": {
      "text/plain": [
       "array([9, 8, 7, 6, 5, 4, 3, 2, 1, 0])"
      ]
     },
     "execution_count": 40,
     "metadata": {},
     "output_type": "execute_result"
    }
   ],
   "source": [
    "np_array[::-1]"
   ]
  },
  {
   "cell_type": "code",
   "execution_count": 41,
   "id": "9bfaec34-37f2-4498-8c53-7b1211c0f074",
   "metadata": {},
   "outputs": [
    {
     "data": {
      "text/plain": [
       "array([2, 4])"
      ]
     },
     "execution_count": 41,
     "metadata": {},
     "output_type": "execute_result"
    }
   ],
   "source": [
    "np_array[2:6:2]"
   ]
  },
  {
   "cell_type": "code",
   "execution_count": 42,
   "id": "25c81d28-6d54-448b-9ea1-07835a5f4235",
   "metadata": {},
   "outputs": [],
   "source": [
    "# RANDOM"
   ]
  },
  {
   "cell_type": "code",
   "execution_count": 43,
   "id": "81c4befe-a1c3-466f-a7ac-07649eb45068",
   "metadata": {},
   "outputs": [
    {
     "data": {
      "text/plain": [
       "array([0.00613183, 0.08606031, 0.68917937, 0.28728087])"
      ]
     },
     "execution_count": 43,
     "metadata": {},
     "output_type": "execute_result"
    }
   ],
   "source": [
    "np.random.random(4)"
   ]
  },
  {
   "cell_type": "code",
   "execution_count": 45,
   "id": "937e72c7-6026-43c8-b54d-86a60fa916c3",
   "metadata": {},
   "outputs": [
    {
     "data": {
      "text/plain": [
       "array([[ 1.15119352, -0.11259861,  0.43883117, -0.2587435 ],\n",
       "       [-0.0572342 , -0.13020734, -1.39223354, -0.94735728],\n",
       "       [ 0.81035738,  0.43431004,  0.88734589,  0.01797197],\n",
       "       [ 0.86752896, -0.07494507,  0.73747821, -1.39296308]])"
      ]
     },
     "execution_count": 45,
     "metadata": {},
     "output_type": "execute_result"
    }
   ],
   "source": [
    "np.random.randn(4,4)"
   ]
  },
  {
   "cell_type": "code",
   "execution_count": 1,
   "id": "3f0aef91-2bfc-4a23-83bf-e977e5cc7116",
   "metadata": {},
   "outputs": [],
   "source": [
    "# MATRİX"
   ]
  },
  {
   "cell_type": "code",
   "execution_count": 2,
   "id": "56695122-1ce3-4b8d-9c3c-396aba8dafcc",
   "metadata": {},
   "outputs": [
    {
     "data": {
      "text/plain": [
       "[5, 10]"
      ]
     },
     "execution_count": 2,
     "metadata": {},
     "output_type": "execute_result"
    }
   ],
   "source": [
    "my_matrix = [[5,10] ,[15,20]]\n",
    "my_matrix[0]"
   ]
  },
  {
   "cell_type": "code",
   "execution_count": 6,
   "id": "a98f71cb-8625-42e4-a5ce-1152c731e1fc",
   "metadata": {},
   "outputs": [],
   "source": [
    "import numpy as np  # row,colomn"
   ]
  },
  {
   "cell_type": "code",
   "execution_count": 8,
   "id": "904a9f6c-f72e-4928-8cbe-2332f87eec2c",
   "metadata": {},
   "outputs": [
    {
     "data": {
      "text/plain": [
       "array([[ 5, 10],\n",
       "       [15, 20]])"
      ]
     },
     "execution_count": 8,
     "metadata": {},
     "output_type": "execute_result"
    }
   ],
   "source": [
    "numpy_matrix = np.array([[5,10] ,[15,20]])\n",
    "numpy_matrix"
   ]
  },
  {
   "cell_type": "code",
   "execution_count": 9,
   "id": "8dd8497e-0a59-4800-97dc-688350d5e56a",
   "metadata": {},
   "outputs": [
    {
     "data": {
      "text/plain": [
       "15"
      ]
     },
     "execution_count": 9,
     "metadata": {},
     "output_type": "execute_result"
    }
   ],
   "source": [
    "numpy_matrix[1][0]"
   ]
  },
  {
   "cell_type": "code",
   "execution_count": 10,
   "id": "adcfa158-6aa0-4578-8933-46db931ab0ae",
   "metadata": {},
   "outputs": [
    {
     "data": {
      "text/plain": [
       "array([[1., 1., 1.],\n",
       "       [1., 1., 1.],\n",
       "       [1., 1., 1.],\n",
       "       [1., 1., 1.]])"
      ]
     },
     "execution_count": 10,
     "metadata": {},
     "output_type": "execute_result"
    }
   ],
   "source": [
    "np.ones((4,3))"
   ]
  },
  {
   "cell_type": "code",
   "execution_count": 11,
   "id": "6d2e9834-9837-49dc-8e9c-031de87b4d5e",
   "metadata": {},
   "outputs": [
    {
     "data": {
      "text/plain": [
       "array([[0., 0.],\n",
       "       [0., 0.],\n",
       "       [0., 0.],\n",
       "       [0., 0.],\n",
       "       [0., 0.]])"
      ]
     },
     "execution_count": 11,
     "metadata": {},
     "output_type": "execute_result"
    }
   ],
   "source": [
    "np.zeros((5,2))"
   ]
  },
  {
   "cell_type": "code",
   "execution_count": 13,
   "id": "7923ec30-34ac-4d12-ad66-ed2e4217861c",
   "metadata": {},
   "outputs": [],
   "source": [
    "first_array = np.array([[10,20] , [30,40]])\n",
    "second_array = np.array([[5,15] , [25,35]])\n"
   ]
  },
  {
   "cell_type": "code",
   "execution_count": 14,
   "id": "bf65efeb-a973-444c-8335-eb5f5c4e3da7",
   "metadata": {},
   "outputs": [
    {
     "data": {
      "text/plain": [
       "array([[15, 35],\n",
       "       [55, 75]])"
      ]
     },
     "execution_count": 14,
     "metadata": {},
     "output_type": "execute_result"
    }
   ],
   "source": [
    "first_array + second_array"
   ]
  },
  {
   "cell_type": "code",
   "execution_count": 15,
   "id": "a2cabb50-eb21-4f68-b53a-e2f2b83f29c7",
   "metadata": {},
   "outputs": [],
   "source": [
    "thir_array = np.array([[50,60]])"
   ]
  },
  {
   "cell_type": "code",
   "execution_count": 16,
   "id": "ab61ef65-d109-481c-80c3-262a3117090c",
   "metadata": {},
   "outputs": [
    {
     "data": {
      "text/plain": [
       "array([[50, 60]])"
      ]
     },
     "execution_count": 16,
     "metadata": {},
     "output_type": "execute_result"
    }
   ],
   "source": [
    "thir_array"
   ]
  },
  {
   "cell_type": "code",
   "execution_count": 17,
   "id": "71127988-401b-4567-ac44-38b68f8e903d",
   "metadata": {},
   "outputs": [
    {
     "data": {
      "text/plain": [
       "array([[ 60,  80],\n",
       "       [ 80, 100]])"
      ]
     },
     "execution_count": 17,
     "metadata": {},
     "output_type": "execute_result"
    }
   ],
   "source": [
    "thir_array + first_array"
   ]
  },
  {
   "cell_type": "code",
   "execution_count": 19,
   "id": "c8b25836-b08a-4e56-9bee-16727cfd67e8",
   "metadata": {},
   "outputs": [
    {
     "data": {
      "text/plain": [
       "(1, 2)"
      ]
     },
     "execution_count": 19,
     "metadata": {},
     "output_type": "execute_result"
    }
   ],
   "source": [
    "thir_array.shape"
   ]
  },
  {
   "cell_type": "code",
   "execution_count": 20,
   "id": "50dfd160-d299-49d5-a72e-b47fab3e8ca0",
   "metadata": {},
   "outputs": [],
   "source": [
    "# matrix multiplication"
   ]
  },
  {
   "cell_type": "code",
   "execution_count": 21,
   "id": "dbbc32a2-5251-42d2-b625-8b1f06a2b96d",
   "metadata": {},
   "outputs": [
    {
     "data": {
      "text/plain": [
       "array([[  50,  300],\n",
       "       [ 750, 1400]])"
      ]
     },
     "execution_count": 21,
     "metadata": {},
     "output_type": "execute_result"
    }
   ],
   "source": [
    "first_array * second_array"
   ]
  },
  {
   "cell_type": "code",
   "execution_count": 22,
   "id": "e71d7e03-b57f-4a06-98fe-383448a8c9d6",
   "metadata": {},
   "outputs": [],
   "source": [
    "# dot product"
   ]
  },
  {
   "cell_type": "code",
   "execution_count": 35,
   "id": "715a9aae-a086-4c87-9d00-5443b226b580",
   "metadata": {},
   "outputs": [
    {
     "data": {
      "text/plain": [
       "array([[10, 20, 30]])"
      ]
     },
     "execution_count": 35,
     "metadata": {},
     "output_type": "execute_result"
    }
   ],
   "source": [
    "first = np.array([[10,20,30]])\n",
    "first"
   ]
  },
  {
   "cell_type": "code",
   "execution_count": 36,
   "id": "74ad6462-2169-48a9-acc9-90f80adc3b1e",
   "metadata": {},
   "outputs": [
    {
     "data": {
      "text/plain": [
       "(1, 3)"
      ]
     },
     "execution_count": 36,
     "metadata": {},
     "output_type": "execute_result"
    }
   ],
   "source": [
    "first.shape"
   ]
  },
  {
   "cell_type": "code",
   "execution_count": 37,
   "id": "1be7dc93-260f-4f24-98a2-4ea5dc544101",
   "metadata": {},
   "outputs": [],
   "source": [
    "secon = np.array([[2,3] ,[2,3] , [2,3]])"
   ]
  },
  {
   "cell_type": "code",
   "execution_count": 38,
   "id": "af6197e9-adfe-410f-92a6-09ccc5d78538",
   "metadata": {},
   "outputs": [
    {
     "data": {
      "text/plain": [
       "array([[2, 3],\n",
       "       [2, 3],\n",
       "       [2, 3]])"
      ]
     },
     "execution_count": 38,
     "metadata": {},
     "output_type": "execute_result"
    }
   ],
   "source": [
    "secon"
   ]
  },
  {
   "cell_type": "code",
   "execution_count": 39,
   "id": "542e7f17-6cdb-4ce1-83f0-2855aba79e3f",
   "metadata": {},
   "outputs": [
    {
     "data": {
      "text/plain": [
       "(3, 2)"
      ]
     },
     "execution_count": 39,
     "metadata": {},
     "output_type": "execute_result"
    }
   ],
   "source": [
    "secon.shape"
   ]
  },
  {
   "cell_type": "code",
   "execution_count": 41,
   "id": "1944af86-0ccd-4ac3-881f-c99b7c01a67d",
   "metadata": {},
   "outputs": [
    {
     "data": {
      "text/plain": [
       "array([[120, 180]])"
      ]
     },
     "execution_count": 41,
     "metadata": {},
     "output_type": "execute_result"
    }
   ],
   "source": [
    "result = first.dot(secon)\n",
    "result"
   ]
  },
  {
   "cell_type": "code",
   "execution_count": null,
   "id": "03bfba2f-c07a-4964-873a-1f3500c01c25",
   "metadata": {},
   "outputs": [],
   "source": []
  }
 ],
 "metadata": {
  "kernelspec": {
   "display_name": "Python [conda env:base] *",
   "language": "python",
   "name": "conda-base-py"
  },
  "language_info": {
   "codemirror_mode": {
    "name": "ipython",
    "version": 3
   },
   "file_extension": ".py",
   "mimetype": "text/x-python",
   "name": "python",
   "nbconvert_exporter": "python",
   "pygments_lexer": "ipython3",
   "version": "3.11.7"
  }
 },
 "nbformat": 4,
 "nbformat_minor": 5
}
