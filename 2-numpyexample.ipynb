{
 "cells": [
  {
   "cell_type": "code",
   "execution_count": 1,
   "id": "e81e1a60-4039-42f5-b998-4b6b451a27cc",
   "metadata": {},
   "outputs": [],
   "source": [
    "import numpy as np"
   ]
  },
  {
   "cell_type": "code",
   "execution_count": 2,
   "id": "d2cea905-6aa5-4045-960b-c539cee7077f",
   "metadata": {},
   "outputs": [],
   "source": [
    "new_array = np.random.randint(1,100,20)"
   ]
  },
  {
   "cell_type": "code",
   "execution_count": 3,
   "id": "b61e4304-7645-4c28-a4ec-04a2b386b6c5",
   "metadata": {},
   "outputs": [
    {
     "data": {
      "text/plain": [
       "array([54, 96, 62,  1, 66, 75, 75, 40, 62, 90, 39, 21, 90, 37, 63, 40, 46,\n",
       "       67, 42, 13])"
      ]
     },
     "execution_count": 3,
     "metadata": {},
     "output_type": "execute_result"
    }
   ],
   "source": [
    "new_array"
   ]
  },
  {
   "cell_type": "code",
   "execution_count": 4,
   "id": "6ef4584f-a37b-4648-a00c-e3961c849f6f",
   "metadata": {},
   "outputs": [
    {
     "data": {
      "text/plain": [
       "array([ True,  True,  True, False,  True,  True,  True,  True,  True,\n",
       "        True,  True, False,  True,  True,  True,  True,  True,  True,\n",
       "        True, False])"
      ]
     },
     "execution_count": 4,
     "metadata": {},
     "output_type": "execute_result"
    }
   ],
   "source": [
    "new_array > 25"
   ]
  },
  {
   "cell_type": "code",
   "execution_count": 5,
   "id": "f567e15d-1c44-4ccc-93b5-21b88a7cfd21",
   "metadata": {},
   "outputs": [
    {
     "data": {
      "text/plain": [
       "array([54, 96, 62, 66, 75, 75, 40, 62, 90, 39, 90, 37, 63, 40, 46, 67, 42])"
      ]
     },
     "execution_count": 5,
     "metadata": {},
     "output_type": "execute_result"
    }
   ],
   "source": [
    "new_array[new_array > 25]"
   ]
  },
  {
   "cell_type": "code",
   "execution_count": 6,
   "id": "1e43ea1f-77e3-4c00-8af6-bc668b04686a",
   "metadata": {},
   "outputs": [
    {
     "data": {
      "text/plain": [
       "array([ 1, 21, 13])"
      ]
     },
     "execution_count": 6,
     "metadata": {},
     "output_type": "execute_result"
    }
   ],
   "source": [
    "new_array[new_array < 25]"
   ]
  },
  {
   "cell_type": "code",
   "execution_count": 7,
   "id": "fe3ae913-092d-4e44-b344-a812a50982fc",
   "metadata": {},
   "outputs": [],
   "source": [
    "# transpose and reshape"
   ]
  },
  {
   "cell_type": "code",
   "execution_count": 8,
   "id": "62eb53ca-d5c5-47b5-8e39-9da1707db841",
   "metadata": {},
   "outputs": [],
   "source": [
    "matrix_array = np.array([[10,20] , [20,30] ,[30,40]])"
   ]
  },
  {
   "cell_type": "code",
   "execution_count": 9,
   "id": "cc5844a2-712a-4e84-af80-8c485a9544de",
   "metadata": {},
   "outputs": [
    {
     "data": {
      "text/plain": [
       "(3, 2)"
      ]
     },
     "execution_count": 9,
     "metadata": {},
     "output_type": "execute_result"
    }
   ],
   "source": [
    "matrix_array.shape"
   ]
  },
  {
   "cell_type": "code",
   "execution_count": 11,
   "id": "4322da3b-d7fc-4344-adae-befad25b91cd",
   "metadata": {},
   "outputs": [
    {
     "data": {
      "text/plain": [
       "array([[10, 20, 30],\n",
       "       [20, 30, 40]])"
      ]
     },
     "execution_count": 11,
     "metadata": {},
     "output_type": "execute_result"
    }
   ],
   "source": [
    "matrix_array.transpose()"
   ]
  },
  {
   "cell_type": "code",
   "execution_count": 12,
   "id": "4ed4d1a5-4659-4b34-ac94-1c7c49e369c6",
   "metadata": {},
   "outputs": [
    {
     "data": {
      "text/plain": [
       "array([[10, 20, 30],\n",
       "       [20, 30, 40]])"
      ]
     },
     "execution_count": 12,
     "metadata": {},
     "output_type": "execute_result"
    }
   ],
   "source": [
    "matrix_array.T"
   ]
  },
  {
   "cell_type": "code",
   "execution_count": 13,
   "id": "195001af-de67-4097-ae9e-403009297054",
   "metadata": {},
   "outputs": [],
   "source": [
    "random_array =np.random.random((6,1))"
   ]
  },
  {
   "cell_type": "code",
   "execution_count": 17,
   "id": "8ea82935-eed4-4b85-b07b-5507b5955fd3",
   "metadata": {},
   "outputs": [
    {
     "data": {
      "text/plain": [
       "array([[0.16239383],\n",
       "       [0.85050654],\n",
       "       [0.01619754],\n",
       "       [0.28576757],\n",
       "       [0.98452919],\n",
       "       [0.32346589]])"
      ]
     },
     "execution_count": 17,
     "metadata": {},
     "output_type": "execute_result"
    }
   ],
   "source": [
    "random_array"
   ]
  },
  {
   "cell_type": "code",
   "execution_count": 19,
   "id": "2a9450ec-c837-47a0-b8e5-6807ea8bc6fc",
   "metadata": {},
   "outputs": [
    {
     "data": {
      "text/plain": [
       "array([[0.16239383, 0.85050654, 0.01619754],\n",
       "       [0.28576757, 0.98452919, 0.32346589]])"
      ]
     },
     "execution_count": 19,
     "metadata": {},
     "output_type": "execute_result"
    }
   ],
   "source": [
    "random_array.reshape(2,3)"
   ]
  },
  {
   "cell_type": "code",
   "execution_count": 20,
   "id": "962b5b66-48e6-4f98-8ee5-f687f9ad14e2",
   "metadata": {},
   "outputs": [
    {
     "data": {
      "text/plain": [
       "array([[0.16239383, 0.85050654],\n",
       "       [0.01619754, 0.28576757],\n",
       "       [0.98452919, 0.32346589]])"
      ]
     },
     "execution_count": 20,
     "metadata": {},
     "output_type": "execute_result"
    }
   ],
   "source": [
    "random_array.reshape(3,2)"
   ]
  },
  {
   "cell_type": "code",
   "execution_count": 21,
   "id": "692ecfc2-e54d-4d0b-8d57-5e6b2cc156fb",
   "metadata": {},
   "outputs": [],
   "source": [
    "# z-score"
   ]
  },
  {
   "cell_type": "code",
   "execution_count": 22,
   "id": "02621dcd-7c20-4507-84d1-161974bf1c19",
   "metadata": {},
   "outputs": [],
   "source": [
    "data = np.array([10,12,15,18,21,100,105])"
   ]
  },
  {
   "cell_type": "code",
   "execution_count": 23,
   "id": "105816de-ad8d-4da7-9933-ab42d6429c0a",
   "metadata": {},
   "outputs": [],
   "source": [
    "# outlier"
   ]
  },
  {
   "cell_type": "code",
   "execution_count": 27,
   "id": "e2f8be19-d321-4acb-a7d5-c28009cc9e91",
   "metadata": {},
   "outputs": [],
   "source": [
    "mean = np.mean(data)"
   ]
  },
  {
   "cell_type": "code",
   "execution_count": 28,
   "id": "7b6d4ad1-7d25-4a75-b51c-cb1825a0553c",
   "metadata": {},
   "outputs": [
    {
     "data": {
      "text/plain": [
       "40.142857142857146"
      ]
     },
     "execution_count": 28,
     "metadata": {},
     "output_type": "execute_result"
    }
   ],
   "source": [
    "mean"
   ]
  },
  {
   "cell_type": "code",
   "execution_count": 29,
   "id": "c91ea105-774d-4a1b-9eb5-c287aebcca3a",
   "metadata": {},
   "outputs": [
    {
     "data": {
      "text/plain": [
       "40.142857142857146"
      ]
     },
     "execution_count": 29,
     "metadata": {},
     "output_type": "execute_result"
    }
   ],
   "source": [
    "data.sum() / len(data)"
   ]
  },
  {
   "cell_type": "code",
   "execution_count": 30,
   "id": "7dd35bb0-a6ce-4a70-873f-3bbff07e8027",
   "metadata": {},
   "outputs": [],
   "source": [
    "std = np.std(data)"
   ]
  },
  {
   "cell_type": "code",
   "execution_count": 31,
   "id": "63b667d3-95e5-495e-a3a0-ebcdeb081861",
   "metadata": {},
   "outputs": [
    {
     "data": {
      "text/plain": [
       "39.60313325060665"
      ]
     },
     "execution_count": 31,
     "metadata": {},
     "output_type": "execute_result"
    }
   ],
   "source": [
    "std"
   ]
  },
  {
   "cell_type": "code",
   "execution_count": 32,
   "id": "077d83be-ceb0-41fa-9a7c-dc4c7650671c",
   "metadata": {},
   "outputs": [],
   "source": [
    "z_scores = data - mean / std"
   ]
  },
  {
   "cell_type": "code",
   "execution_count": 33,
   "id": "4aa0af2d-41d6-4eab-ac6d-a3f5b31fe0c1",
   "metadata": {},
   "outputs": [
    {
     "data": {
      "text/plain": [
       "array([  8.98637169,  10.98637169,  13.98637169,  16.98637169,\n",
       "        19.98637169,  98.98637169, 103.98637169])"
      ]
     },
     "execution_count": 33,
     "metadata": {},
     "output_type": "execute_result"
    }
   ],
   "source": [
    "z_scores"
   ]
  },
  {
   "cell_type": "code",
   "execution_count": 35,
   "id": "bbfd2c94-82a3-45fd-87e4-3a068d2b5b58",
   "metadata": {},
   "outputs": [
    {
     "data": {
      "text/plain": [
       "array([ 10.98637169,  13.98637169,  16.98637169,  19.98637169,\n",
       "        98.98637169, 103.98637169])"
      ]
     },
     "execution_count": 35,
     "metadata": {},
     "output_type": "execute_result"
    }
   ],
   "source": [
    "z_scores [z_scores > 10 ]"
   ]
  },
  {
   "cell_type": "code",
   "execution_count": 36,
   "id": "cd7b718a-3b03-4e39-8aa8-afd7c09f8e32",
   "metadata": {},
   "outputs": [
    {
     "data": {
      "text/plain": [
       "array([ 12,  15,  18,  21, 100, 105])"
      ]
     },
     "execution_count": 36,
     "metadata": {},
     "output_type": "execute_result"
    }
   ],
   "source": [
    "data [z_scores > 10 ]"
   ]
  },
  {
   "cell_type": "code",
   "execution_count": 37,
   "id": "3d0afc6a-4d7a-4aff-8ff9-947686008813",
   "metadata": {},
   "outputs": [],
   "source": [
    "# 2x+3y =8 and 5x + 7y = 19"
   ]
  },
  {
   "cell_type": "code",
   "execution_count": 38,
   "id": "9f2c9aa8-351e-4661-ba69-d36de469297f",
   "metadata": {},
   "outputs": [],
   "source": [
    "# coefficient"
   ]
  },
  {
   "cell_type": "code",
   "execution_count": 39,
   "id": "1bad3d2d-0248-4aa4-a0d7-86fd282761f6",
   "metadata": {},
   "outputs": [],
   "source": [
    "A = np.array([[2,3] ,[5,7]])"
   ]
  },
  {
   "cell_type": "code",
   "execution_count": 40,
   "id": "82d8dc56-1a36-4d46-9a72-61dc0cff818b",
   "metadata": {},
   "outputs": [],
   "source": [
    "# constant"
   ]
  },
  {
   "cell_type": "code",
   "execution_count": 41,
   "id": "fa32c535-6f53-4c36-87f4-f20f2cc79adc",
   "metadata": {},
   "outputs": [],
   "source": [
    "B = np.array([8,19])"
   ]
  },
  {
   "cell_type": "code",
   "execution_count": 42,
   "id": "1382c604-14ab-4755-8e59-bbf94a37d1b5",
   "metadata": {},
   "outputs": [],
   "source": [
    "solution = np.linalg.solve(A,B)"
   ]
  },
  {
   "cell_type": "code",
   "execution_count": 43,
   "id": "763a6ee1-762b-4547-bc73-cc8913521c43",
   "metadata": {},
   "outputs": [
    {
     "data": {
      "text/plain": [
       "array([1., 2.])"
      ]
     },
     "execution_count": 43,
     "metadata": {},
     "output_type": "execute_result"
    }
   ],
   "source": [
    "solution"
   ]
  },
  {
   "cell_type": "code",
   "execution_count": null,
   "id": "54d4a1cc-cb92-40ac-9b41-0d563bf72abf",
   "metadata": {},
   "outputs": [],
   "source": []
  }
 ],
 "metadata": {
  "kernelspec": {
   "display_name": "Python [conda env:base] *",
   "language": "python",
   "name": "conda-base-py"
  },
  "language_info": {
   "codemirror_mode": {
    "name": "ipython",
    "version": 3
   },
   "file_extension": ".py",
   "mimetype": "text/x-python",
   "name": "python",
   "nbconvert_exporter": "python",
   "pygments_lexer": "ipython3",
   "version": "3.11.7"
  }
 },
 "nbformat": 4,
 "nbformat_minor": 5
}
